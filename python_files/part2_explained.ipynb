{
 "metadata": {
  "language_info": {
   "codemirror_mode": {
    "name": "ipython",
    "version": 3
   },
   "file_extension": ".py",
   "mimetype": "text/x-python",
   "name": "python",
   "nbconvert_exporter": "python",
   "pygments_lexer": "ipython3",
   "version": "3.8.6"
  },
  "orig_nbformat": 2,
  "kernelspec": {
   "name": "python386jvsc74a57bd040b3fa18ff9822955ade3b4293c8055f93f4db314a02c83cb9a8d0e03e1ce95a",
   "display_name": "Python 3.8.6 64-bit"
  }
 },
 "nbformat": 4,
 "nbformat_minor": 2,
 "cells": [
  {
   "source": [
    "# Detection of TOXicity in comments in Spanish (DETOXIS 2021)\n",
    "\n",
    "## SESIÓN 2.2: Clasificación\n",
    "\n",
    "### Realizado por Álvaro Mazcuñán y Miquel Marín"
   ],
   "cell_type": "markdown",
   "metadata": {}
  },
  {
   "source": [
    "#### Librerías"
   ],
   "cell_type": "markdown",
   "metadata": {}
  },
  {
   "source": [
    "Se importan las mismas librerías que se utilizaron en la parte anterior"
   ],
   "cell_type": "markdown",
   "metadata": {}
  },
  {
   "cell_type": "code",
   "execution_count": 43,
   "metadata": {},
   "outputs": [],
   "source": [
    "import pandas as pd\n",
    "import re\n",
    "import string\n",
    "import numpy as np\n",
    "\n",
    "from nltk.corpus import stopwords\n",
    "from nltk.tokenize import word_tokenize\n",
    "from nltk.stem import PorterStemmer\n",
    "from nltk.stem import WordNetLemmatizer\n",
    "\n",
    "from sklearn.feature_extraction.text import CountVectorizer\n",
    "from sklearn.feature_extraction.text import TfidfVectorizer\n",
    "\n",
    "from sklearn.naive_bayes import MultinomialNB\n",
    "from sklearn.tree import DecisionTreeClassifier\n",
    "from sklearn.linear_model import LogisticRegression\n",
    "from sklearn.svm import SVC\n",
    "from sklearn.neural_network import MLPClassifier\n",
    "\n",
    "from sklearn.model_selection import train_test_split\n",
    "from sklearn.metrics import f1_score\n",
    "from sklearn.metrics import accuracy_score\n",
    "\n",
    "from gensim.models import Word2Vec"
   ]
  },
  {
   "source": [
    "#### Datos de DETOXIS"
   ],
   "cell_type": "markdown",
   "metadata": {}
  },
  {
   "source": [
    "A continuación se cargan los datos tal y como se hizo en la anterior entrega"
   ],
   "cell_type": "markdown",
   "metadata": {}
  },
  {
   "cell_type": "code",
   "execution_count": 2,
   "metadata": {},
   "outputs": [
    {
     "output_type": "execute_result",
     "data": {
      "text/plain": [
       "     topic thread_id comment_id reply_to  comment_level  \\\n",
       "0       CR     0_000      0_002    0_002              1   \n",
       "1       CR     0_001      0_003    0_003              1   \n",
       "2       CR     0_002      0_004    0_004              1   \n",
       "3       CR     0_003      0_005    0_005              1   \n",
       "4       CR     0_004      0_006    0_006              1   \n",
       "...    ...       ...        ...      ...            ...   \n",
       "3458    MI    20_134     20_164   20_164              1   \n",
       "3459    MI    20_006     20_165   20_008              2   \n",
       "3460    MI    20_135     20_166   20_166              1   \n",
       "3461    MI    20_136     20_167   20_167              1   \n",
       "3462    MI    20_137     20_168   20_168              1   \n",
       "\n",
       "                                                comment  argumentation  \\\n",
       "0                              Pensó: Zumo para restar.              0   \n",
       "1      Como les gusta el afeitado en seco a esta gente.              0   \n",
       "2     asi me gusta, que se maten entre ellos y en al...              0   \n",
       "3     Loss mas valientes, los que mejor cortan nuest...              0   \n",
       "4                                         Costumbres...              0   \n",
       "...                                                 ...            ...   \n",
       "3458                   Ya decía yo que veía menos moros              0   \n",
       "3459                               +1. Como lo sabes...              0   \n",
       "3460  Seguirán cobrando paguitas en Marruecos,expoli...              0   \n",
       "3461  pobres, se arriesgan en pateras porque huyen d...              0   \n",
       "3462  Yo me quiero escapar también, dan paguita al l...              0   \n",
       "\n",
       "      constructiveness  positive_stance  negative_stance  ...  target_group  \\\n",
       "0                    0                0                0  ...             0   \n",
       "1                    0                0                0  ...             1   \n",
       "2                    0                0                0  ...             1   \n",
       "3                    0                0                0  ...             1   \n",
       "4                    0                0                0  ...             1   \n",
       "...                ...              ...              ...  ...           ...   \n",
       "3458                 0                0                0  ...             1   \n",
       "3459                 0                1                0  ...             0   \n",
       "3460                 0                0                0  ...             1   \n",
       "3461                 0                0                0  ...             1   \n",
       "3462                 0                0                0  ...             0   \n",
       "\n",
       "      stereotype  sarcasm  mockery  insult  improper_language  aggressiveness  \\\n",
       "0              0        0        1       0                  0               0   \n",
       "1              1        1        1       0                  0               0   \n",
       "2              0        0        0       0                  0               1   \n",
       "3              0        1        1       0                  0               0   \n",
       "4              1        0        0       0                  0               0   \n",
       "...          ...      ...      ...     ...                ...             ...   \n",
       "3458           0        0        1       1                  0               0   \n",
       "3459           0        0        0       0                  0               0   \n",
       "3460           1        0        0       0                  0               0   \n",
       "3461           0        0        1       0                  0               0   \n",
       "3462           0        0        1       0                  0               0   \n",
       "\n",
       "      intolerance  toxicity  toxicity_level  \n",
       "0               0         1               1  \n",
       "1               0         1               1  \n",
       "2               1         1               2  \n",
       "3               0         1               1  \n",
       "4               0         1               1  \n",
       "...           ...       ...             ...  \n",
       "3458            0         1               1  \n",
       "3459            0         0               0  \n",
       "3460            1         1               1  \n",
       "3461            0         1               1  \n",
       "3462            0         1               1  \n",
       "\n",
       "[3463 rows x 21 columns]"
      ],
      "text/html": "<div>\n<style scoped>\n    .dataframe tbody tr th:only-of-type {\n        vertical-align: middle;\n    }\n\n    .dataframe tbody tr th {\n        vertical-align: top;\n    }\n\n    .dataframe thead th {\n        text-align: right;\n    }\n</style>\n<table border=\"1\" class=\"dataframe\">\n  <thead>\n    <tr style=\"text-align: right;\">\n      <th></th>\n      <th>topic</th>\n      <th>thread_id</th>\n      <th>comment_id</th>\n      <th>reply_to</th>\n      <th>comment_level</th>\n      <th>comment</th>\n      <th>argumentation</th>\n      <th>constructiveness</th>\n      <th>positive_stance</th>\n      <th>negative_stance</th>\n      <th>...</th>\n      <th>target_group</th>\n      <th>stereotype</th>\n      <th>sarcasm</th>\n      <th>mockery</th>\n      <th>insult</th>\n      <th>improper_language</th>\n      <th>aggressiveness</th>\n      <th>intolerance</th>\n      <th>toxicity</th>\n      <th>toxicity_level</th>\n    </tr>\n  </thead>\n  <tbody>\n    <tr>\n      <th>0</th>\n      <td>CR</td>\n      <td>0_000</td>\n      <td>0_002</td>\n      <td>0_002</td>\n      <td>1</td>\n      <td>Pensó: Zumo para restar.</td>\n      <td>0</td>\n      <td>0</td>\n      <td>0</td>\n      <td>0</td>\n      <td>...</td>\n      <td>0</td>\n      <td>0</td>\n      <td>0</td>\n      <td>1</td>\n      <td>0</td>\n      <td>0</td>\n      <td>0</td>\n      <td>0</td>\n      <td>1</td>\n      <td>1</td>\n    </tr>\n    <tr>\n      <th>1</th>\n      <td>CR</td>\n      <td>0_001</td>\n      <td>0_003</td>\n      <td>0_003</td>\n      <td>1</td>\n      <td>Como les gusta el afeitado en seco a esta gente.</td>\n      <td>0</td>\n      <td>0</td>\n      <td>0</td>\n      <td>0</td>\n      <td>...</td>\n      <td>1</td>\n      <td>1</td>\n      <td>1</td>\n      <td>1</td>\n      <td>0</td>\n      <td>0</td>\n      <td>0</td>\n      <td>0</td>\n      <td>1</td>\n      <td>1</td>\n    </tr>\n    <tr>\n      <th>2</th>\n      <td>CR</td>\n      <td>0_002</td>\n      <td>0_004</td>\n      <td>0_004</td>\n      <td>1</td>\n      <td>asi me gusta, que se maten entre ellos y en al...</td>\n      <td>0</td>\n      <td>0</td>\n      <td>0</td>\n      <td>0</td>\n      <td>...</td>\n      <td>1</td>\n      <td>0</td>\n      <td>0</td>\n      <td>0</td>\n      <td>0</td>\n      <td>0</td>\n      <td>1</td>\n      <td>1</td>\n      <td>1</td>\n      <td>2</td>\n    </tr>\n    <tr>\n      <th>3</th>\n      <td>CR</td>\n      <td>0_003</td>\n      <td>0_005</td>\n      <td>0_005</td>\n      <td>1</td>\n      <td>Loss mas valientes, los que mejor cortan nuest...</td>\n      <td>0</td>\n      <td>0</td>\n      <td>0</td>\n      <td>0</td>\n      <td>...</td>\n      <td>1</td>\n      <td>0</td>\n      <td>1</td>\n      <td>1</td>\n      <td>0</td>\n      <td>0</td>\n      <td>0</td>\n      <td>0</td>\n      <td>1</td>\n      <td>1</td>\n    </tr>\n    <tr>\n      <th>4</th>\n      <td>CR</td>\n      <td>0_004</td>\n      <td>0_006</td>\n      <td>0_006</td>\n      <td>1</td>\n      <td>Costumbres...</td>\n      <td>0</td>\n      <td>0</td>\n      <td>0</td>\n      <td>0</td>\n      <td>...</td>\n      <td>1</td>\n      <td>1</td>\n      <td>0</td>\n      <td>0</td>\n      <td>0</td>\n      <td>0</td>\n      <td>0</td>\n      <td>0</td>\n      <td>1</td>\n      <td>1</td>\n    </tr>\n    <tr>\n      <th>...</th>\n      <td>...</td>\n      <td>...</td>\n      <td>...</td>\n      <td>...</td>\n      <td>...</td>\n      <td>...</td>\n      <td>...</td>\n      <td>...</td>\n      <td>...</td>\n      <td>...</td>\n      <td>...</td>\n      <td>...</td>\n      <td>...</td>\n      <td>...</td>\n      <td>...</td>\n      <td>...</td>\n      <td>...</td>\n      <td>...</td>\n      <td>...</td>\n      <td>...</td>\n      <td>...</td>\n    </tr>\n    <tr>\n      <th>3458</th>\n      <td>MI</td>\n      <td>20_134</td>\n      <td>20_164</td>\n      <td>20_164</td>\n      <td>1</td>\n      <td>Ya decía yo que veía menos moros</td>\n      <td>0</td>\n      <td>0</td>\n      <td>0</td>\n      <td>0</td>\n      <td>...</td>\n      <td>1</td>\n      <td>0</td>\n      <td>0</td>\n      <td>1</td>\n      <td>1</td>\n      <td>0</td>\n      <td>0</td>\n      <td>0</td>\n      <td>1</td>\n      <td>1</td>\n    </tr>\n    <tr>\n      <th>3459</th>\n      <td>MI</td>\n      <td>20_006</td>\n      <td>20_165</td>\n      <td>20_008</td>\n      <td>2</td>\n      <td>+1. Como lo sabes...</td>\n      <td>0</td>\n      <td>0</td>\n      <td>1</td>\n      <td>0</td>\n      <td>...</td>\n      <td>0</td>\n      <td>0</td>\n      <td>0</td>\n      <td>0</td>\n      <td>0</td>\n      <td>0</td>\n      <td>0</td>\n      <td>0</td>\n      <td>0</td>\n      <td>0</td>\n    </tr>\n    <tr>\n      <th>3460</th>\n      <td>MI</td>\n      <td>20_135</td>\n      <td>20_166</td>\n      <td>20_166</td>\n      <td>1</td>\n      <td>Seguirán cobrando paguitas en Marruecos,expoli...</td>\n      <td>0</td>\n      <td>0</td>\n      <td>0</td>\n      <td>0</td>\n      <td>...</td>\n      <td>1</td>\n      <td>1</td>\n      <td>0</td>\n      <td>0</td>\n      <td>0</td>\n      <td>0</td>\n      <td>0</td>\n      <td>1</td>\n      <td>1</td>\n      <td>1</td>\n    </tr>\n    <tr>\n      <th>3461</th>\n      <td>MI</td>\n      <td>20_136</td>\n      <td>20_167</td>\n      <td>20_167</td>\n      <td>1</td>\n      <td>pobres, se arriesgan en pateras porque huyen d...</td>\n      <td>0</td>\n      <td>0</td>\n      <td>0</td>\n      <td>0</td>\n      <td>...</td>\n      <td>1</td>\n      <td>0</td>\n      <td>0</td>\n      <td>1</td>\n      <td>0</td>\n      <td>0</td>\n      <td>0</td>\n      <td>0</td>\n      <td>1</td>\n      <td>1</td>\n    </tr>\n    <tr>\n      <th>3462</th>\n      <td>MI</td>\n      <td>20_137</td>\n      <td>20_168</td>\n      <td>20_168</td>\n      <td>1</td>\n      <td>Yo me quiero escapar también, dan paguita al l...</td>\n      <td>0</td>\n      <td>0</td>\n      <td>0</td>\n      <td>0</td>\n      <td>...</td>\n      <td>0</td>\n      <td>0</td>\n      <td>0</td>\n      <td>1</td>\n      <td>0</td>\n      <td>0</td>\n      <td>0</td>\n      <td>0</td>\n      <td>1</td>\n      <td>1</td>\n    </tr>\n  </tbody>\n</table>\n<p>3463 rows × 21 columns</p>\n</div>"
     },
     "metadata": {},
     "execution_count": 2
    }
   ],
   "source": [
    "data = pd.read_csv('C:/Users/mique/Documents/CURSO 3 - SEMESTRE B/LENGUAJE NATURAL Y RECUPERACION DE LA INFORMACION/PRACTICAS/DATASET_DETOXIS.csv')\n",
    "data"
   ]
  },
  {
   "source": [
    "#### Subset de variables para el análisis"
   ],
   "cell_type": "markdown",
   "metadata": {}
  },
  {
   "cell_type": "code",
   "execution_count": 3,
   "metadata": {},
   "outputs": [
    {
     "output_type": "execute_result",
     "data": {
      "text/plain": [
       "                                                comment  toxicity  \\\n",
       "0                              Pensó: Zumo para restar.         1   \n",
       "1      Como les gusta el afeitado en seco a esta gente.         1   \n",
       "2     asi me gusta, que se maten entre ellos y en al...         1   \n",
       "3     Loss mas valientes, los que mejor cortan nuest...         1   \n",
       "4                                         Costumbres...         1   \n",
       "...                                                 ...       ...   \n",
       "3458                   Ya decía yo que veía menos moros         1   \n",
       "3459                               +1. Como lo sabes...         0   \n",
       "3460  Seguirán cobrando paguitas en Marruecos,expoli...         1   \n",
       "3461  pobres, se arriesgan en pateras porque huyen d...         1   \n",
       "3462  Yo me quiero escapar también, dan paguita al l...         1   \n",
       "\n",
       "      toxicity_level  \n",
       "0                  1  \n",
       "1                  1  \n",
       "2                  2  \n",
       "3                  1  \n",
       "4                  1  \n",
       "...              ...  \n",
       "3458               1  \n",
       "3459               0  \n",
       "3460               1  \n",
       "3461               1  \n",
       "3462               1  \n",
       "\n",
       "[3463 rows x 3 columns]"
      ],
      "text/html": "<div>\n<style scoped>\n    .dataframe tbody tr th:only-of-type {\n        vertical-align: middle;\n    }\n\n    .dataframe tbody tr th {\n        vertical-align: top;\n    }\n\n    .dataframe thead th {\n        text-align: right;\n    }\n</style>\n<table border=\"1\" class=\"dataframe\">\n  <thead>\n    <tr style=\"text-align: right;\">\n      <th></th>\n      <th>comment</th>\n      <th>toxicity</th>\n      <th>toxicity_level</th>\n    </tr>\n  </thead>\n  <tbody>\n    <tr>\n      <th>0</th>\n      <td>Pensó: Zumo para restar.</td>\n      <td>1</td>\n      <td>1</td>\n    </tr>\n    <tr>\n      <th>1</th>\n      <td>Como les gusta el afeitado en seco a esta gente.</td>\n      <td>1</td>\n      <td>1</td>\n    </tr>\n    <tr>\n      <th>2</th>\n      <td>asi me gusta, que se maten entre ellos y en al...</td>\n      <td>1</td>\n      <td>2</td>\n    </tr>\n    <tr>\n      <th>3</th>\n      <td>Loss mas valientes, los que mejor cortan nuest...</td>\n      <td>1</td>\n      <td>1</td>\n    </tr>\n    <tr>\n      <th>4</th>\n      <td>Costumbres...</td>\n      <td>1</td>\n      <td>1</td>\n    </tr>\n    <tr>\n      <th>...</th>\n      <td>...</td>\n      <td>...</td>\n      <td>...</td>\n    </tr>\n    <tr>\n      <th>3458</th>\n      <td>Ya decía yo que veía menos moros</td>\n      <td>1</td>\n      <td>1</td>\n    </tr>\n    <tr>\n      <th>3459</th>\n      <td>+1. Como lo sabes...</td>\n      <td>0</td>\n      <td>0</td>\n    </tr>\n    <tr>\n      <th>3460</th>\n      <td>Seguirán cobrando paguitas en Marruecos,expoli...</td>\n      <td>1</td>\n      <td>1</td>\n    </tr>\n    <tr>\n      <th>3461</th>\n      <td>pobres, se arriesgan en pateras porque huyen d...</td>\n      <td>1</td>\n      <td>1</td>\n    </tr>\n    <tr>\n      <th>3462</th>\n      <td>Yo me quiero escapar también, dan paguita al l...</td>\n      <td>1</td>\n      <td>1</td>\n    </tr>\n  </tbody>\n</table>\n<p>3463 rows × 3 columns</p>\n</div>"
     },
     "metadata": {},
     "execution_count": 3
    }
   ],
   "source": [
    "sample_data = data[[\"comment\", \"toxicity\",\"toxicity_level\"]]\n",
    "sample_data"
   ]
  },
  {
   "source": [
    "#### Leer tweets y preprocesado "
   ],
   "cell_type": "markdown",
   "metadata": {}
  },
  {
   "cell_type": "code",
   "execution_count": 4,
   "metadata": {},
   "outputs": [],
   "source": [
    "def tweet_preprocessing_not_tokenized(tweet):\n",
    "    tweet = tweet.lower() # Se empieza pasando todos los mensajes a minúsculas\n",
    "    tweet = re.sub(r\"http\\S+|www\\S+|https\\S+\", \"\" ,tweet , flags=re.MULTILINE) # Quitar URLs\n",
    "    tweet = re.sub(r\"\\@\\w+|\\#\", \"\", tweet) # Quitar @ y #\n",
    "    tweet = re.sub(r\"[\\U00010000-\\U0010ffff]|:\\)|:\\(|XD|xD|;\\)|:,\\(|:D|D:\", \"\", tweet) # Quitar emojis y emoticones\n",
    "    tweet = tweet.translate(str.maketrans('', '', string.punctuation)) # Quitar signos de puntuación\n",
    "    tokenized_tweets = word_tokenize(tweet)\n",
    "    filtered_tweets = [word for word in tokenized_tweets if not word in set(stopwords.words('spanish'))] # Quitar stopwords y filtrar\n",
    "    \n",
    "    stemming = PorterStemmer() # Inicializamos PorterStemmer para obtener la raíz de cada una de las palabras\n",
    "    stemmed_tweets = [stemming.stem(word) for word in filtered_tweets]\n",
    "    lemmatization = WordNetLemmatizer() # Inicializamos el Lemmatizer para obtener los lemas de las palabras\n",
    "    lemma_tweets = [lemmatization.lemmatize(word, pos='a') for word in stemmed_tweets] \n",
    "    return \" \".join(lemma_tweets) # NO TOKENIZADO\n",
    "\n",
    "preprocessing = lambda x: tweet_preprocessing_not_tokenized(x)"
   ]
  },
  {
   "cell_type": "code",
   "execution_count": 5,
   "metadata": {
    "tags": []
   },
   "outputs": [
    {
     "output_type": "stream",
     "name": "stderr",
     "text": [
      "<ipython-input-5-3c4e5d0f187f>:1: SettingWithCopyWarning: \nA value is trying to be set on a copy of a slice from a DataFrame.\nTry using .loc[row_indexer,col_indexer] = value instead\n\nSee the caveats in the documentation: https://pandas.pydata.org/pandas-docs/stable/user_guide/indexing.html#returning-a-view-versus-a-copy\n  sample_data['comment'] = pd.DataFrame(sample_data[\"comment\"].apply(preprocessing))\n"
     ]
    }
   ],
   "source": [
    "sample_data['comment'] = pd.DataFrame(sample_data[\"comment\"].apply(preprocessing))"
   ]
  },
  {
   "cell_type": "code",
   "execution_count": 7,
   "metadata": {},
   "outputs": [
    {
     "output_type": "execute_result",
     "data": {
      "text/plain": [
       "'pensó zumo restar'"
      ]
     },
     "metadata": {},
     "execution_count": 7
    }
   ],
   "source": [
    "sample_data[\"comment\"][0]"
   ]
  },
  {
   "source": [
    "#### Problema del desbalance de clases"
   ],
   "cell_type": "markdown",
   "metadata": {}
  },
  {
   "source": [
    "Debido a que se van a usar algoritmos de clasificación se tendría que estudiar, para los dos variables de `toxicity` y `toxicity_level`, si dichas clases están balanceadas o no debido a que en problemas de clasificación se suelen encontrar que en el conjunto de datos de entrenamiento una de las clases es minoritaria, es decir, en ella hay muy pocas muestras. Esto puede llegar a afectar a los algoritmos en su proceso de generalización y, en consecuencia, no poder diferenciar una clase de la otra."
   ],
   "cell_type": "markdown",
   "metadata": {}
  },
  {
   "cell_type": "code",
   "execution_count": 8,
   "metadata": {},
   "outputs": [
    {
     "output_type": "execute_result",
     "data": {
      "text/plain": [
       "0    2316\n",
       "1    1147\n",
       "Name: toxicity, dtype: int64"
      ]
     },
     "metadata": {},
     "execution_count": 8
    }
   ],
   "source": [
    "sample_data[\"toxicity\"].value_counts()"
   ]
  },
  {
   "cell_type": "code",
   "execution_count": 9,
   "metadata": {},
   "outputs": [
    {
     "output_type": "execute_result",
     "data": {
      "text/plain": [
       "0    2317\n",
       "1     808\n",
       "2     269\n",
       "3      69\n",
       "Name: toxicity_level, dtype: int64"
      ]
     },
     "metadata": {},
     "execution_count": 9
    }
   ],
   "source": [
    "sample_data[\"toxicity_level\"].value_counts()"
   ]
  },
  {
   "source": [
    "Tal y como se puede observar, en la variable `toxicity`, existen 2316 instancias de la clase 0. Por otra parte, la clase 1 contiene 1147. En este caso, aunque la clase 0 tenga el doble de observaciones, consideramos que no existe un problema de desbalanceo de clases ya que existen varias instancias de cada una de las dos clases. Sin embargo, en la variable `toxicity_level` sí que existe un desbalanceo de clases debido a que en las clases 2 y 3 existen pocas observaciones respecto a las otras dos. \n",
    "Por lo tanto, se ha decidido, una vez se evaluen los modelos correspondientes, balancear dicha variable."
   ],
   "cell_type": "markdown",
   "metadata": {}
  },
  {
   "source": [
    "#### Dividir el corpus en conjunto de entrenamiento y test"
   ],
   "cell_type": "markdown",
   "metadata": {}
  },
  {
   "source": [
    "Hay que tener claro que, en primer lugar, se van a realizar los modelos de extracción de características y de Machine Learning para la variable `toxicity`."
   ],
   "cell_type": "markdown",
   "metadata": {}
  },
  {
   "cell_type": "code",
   "execution_count": 10,
   "metadata": {},
   "outputs": [],
   "source": [
    "train_X, test_X, train_Y, test_Y = train_test_split(sample_data['comment'], sample_data['toxicity'], test_size=0.3)"
   ]
  },
  {
   "source": [
    "### Extracción de características"
   ],
   "cell_type": "markdown",
   "metadata": {}
  },
  {
   "source": [
    "#### Term Frequency - Inverse Document Frequency (TF-IDF)"
   ],
   "cell_type": "markdown",
   "metadata": {}
  },
  {
   "source": [
    "Una vez se ha dividido el corpus en train y test, se pasa a realizar un TF-IDF para luego entrenar los datos con una serie de modelos que se comentarán posteriormente."
   ],
   "cell_type": "markdown",
   "metadata": {}
  },
  {
   "cell_type": "code",
   "execution_count": 13,
   "metadata": {},
   "outputs": [],
   "source": [
    "tfidf_vect = TfidfVectorizer()\n",
    "tfidf_vect.fit(sample_data['comment'])\n",
    "train_X_Tfidf = tfidf_vect.transform(train_X)\n",
    "test_X_Tfidf = tfidf_vect.transform(test_X)"
   ]
  },
  {
   "cell_type": "code",
   "execution_count": 18,
   "metadata": {
    "tags": [
     "outputPrepend"
    ]
   },
   "outputs": [
    {
     "output_type": "stream",
     "name": "stdout",
     "text": [
      " 'demonizar': 3584, 'procesión': 9644, 'cabalgata': 1751, 'festival': 5341, 'camion': 1872, 'clausura': 2302, 'liberada': 7105, 'bofetada': 1617, 'hocico': 6030, 'arabiacatar': 1048, 'amado': 743, 'flujo': 5424, 'financiación': 5379, 'conducto': 2653, 'empleamo': 4426, 'paraíso': 8771, 'alegoría': 636, 'nazismo': 8198, 'implementarlo': 6247, 'inductor': 6420, 'prevenir': 9591, 'mordaza': 7984, 'secuestrar': 10911, 'sagrado': 10780, 'contradicen': 2843, 'sonamo': 11263, 'parafernalia': 8757, 'teatro': 11569, 'deberiamo': 3368, 'gustaria': 5824, 'daesh': 3314, 'pernicisoso': 9081, 'nutren': 8374, 'siembran': 11078, 'dividiendo': 4108, 'enfrentando': 4530, 'sermon': 11011, 'designa': 3778, 'radicalismo': 10073, 'tolerando': 11767, 'lavar': 7016, 'independientment': 6384, 'esperaban': 4845, 'escapan': 4725, 'creyendo': 3064, 'vision': 12432, 'neutra': 8267, 'traeria': 11867, 'cientifismo': 2238, 'carent': 1954, 'quiza': 10050, 'satisfaccion': 10884, 'mejormejor': 7688, 'ajustas': 596, 'inef': 6427, 'juntars': 6896, 'planear': 9250, 'anulación': 882, 'drástica': 4170, 'tenían': 11632, 'monj': 7946, 'fusilado': 5562, 'perseguirs': 9097, 'apoyando': 989, 'informant': 6463, 'podra': 9311, 'habiendolo': 5842, 'toler': 11761, 'apoy': 986, 'ale': 633, 'debato': 3360, 'dogmático': 4139, 'desidia': 3776, 'recitar': 10185, 'textualment': 11681, 'coran': 2937, 'creyent': 3065, 'reformismo': 10286, 'divertida': 4105, 'reemplazando': 10263, 'progresivament': 9688, 'entregar': 4639, 'dañina': 3346, 'eventualment': 5008, 'preparar': 9540, 'atacara': 1235, 'bando': 1460, 'feudalismo': 5343, 'dogmatico': 4138, 'simplicidad': 11123, 'denuncialo': 3610, 'prohiban': 9695, 'tomaron': 11782, 'creencia': 3057, 'teleplastia': 11587, 'bélmez': 1748, 'equivoqué': 4698, 'movimi': 8028, 'papeleta': 8744, 'radicalizars': 10075, 'insinú': 6550, 'caba': 1750, 'vfacha': 12346, 'cogió': 2360, 'civilicen': 2277, 'acerrimo': 290, 'neceista': 8202, 'cuestionar': 3198, 'enrocars': 4567, 'biblia': 1561, 'interpret': 6644, 'interpretarlo': 6650, 'coartando': 2327, 'referí': 10269, 'hada': 5903, 'consista': 2764, 'obligarlo': 8398, 'rezar': 10602, 'catacumba': 2038, 'fantástico': 5291, 'autofinancia': 1326, 'salvación': 10834, 'cogio': 2359, 'facilito': 5238, 'financiacion': 5378, 'salafismo': 10786, 'beneficiar': 1548, 'empressa': 4440, 'sugerencia': 11414, 'nogo': 8312, 'imbecilidad': 6220, 'existieran': 5083, 'afirman': 501, 'leñe': 7095, 'cruzado': 3117, 'mesa': 7757, 'mueven': 8063, 'motivado': 8015, 'ego': 4281, 'trascendencia': 11922, 'traido': 11887, 'inclusiva': 6325, 'seguian': 10918, 'porsupuesto': 9404, 'precipitars': 9468, 'radicalizaron': 10074, 'wahabismo': 12569, 'milagrosa': 7825, 'sirena': 11150, 'preventiva': 9592, 'dime': 3981, 'monitorizar': 7945, 'cifrada': 2251, 'ninyo': 8290, 'iraq': 6715, 'fanatico': 5287, 'púlpito': 9945, 'homófoba': 6051, 'excluyent': 5054, 'ripol': 10635, 'cojeaba': 2375, 'denunciarlo': 3614, 'mataran': 7595, 'poquisimo': 9391, 'parando': 8763, '55': 122, '812': 147, '184': 35, '161': 30, 'atropello': 1292, 'sarta': 10882, 'lídere': 7322, 'pasaron': 8846, 'indiscriminado': 6406, 'integrarlo': 6590, 'contentarlo': 2815, 'dió': 4120, 'pá': 9930, 'frustrado': 5520, 'incrustada': 6361, 'ayn': 1381, 'randiano': 10089, 'creciendo': 3048, 'sirva': 11153, 'simpatizo': 11120, 'israelaunqu': 6767, 'pal': 8698, 'imponerno': 6257, 'exageracion': 5029, 'disfrutan': 4063, 'adoctrinado': 443, 'insalv': 6539, 'madurar': 7359, 'índole': 12686, 'ética': 12680, 'estudia': 4952, 'sociología': 11207, 'xviii': 12602, 'garantiza': 5619, 'represalia': 10431, 'aleja': 644, 'mutuament': 8107, 'exclusiva': 5048, 'opinamo': 8563, 'palestina': 8708, 'menos': 7714, 'prohibirla': 9705, 'peldaño': 8949, 'sacándola': 10776, 'reducido': 10250, 'observa': 8408, 'cientifico': 2237, 'organizar': 8601, 'socieadad': 11204, 'rwanda': 10726, 'clasificar': 2299, 'asignar': 1176, 'tarea': 11559, 'hutu': 6118, 'tutsi': 12020, 'neurología': 8263, 'avismo': 1376, 'aceptaron': 277, 'cargarno': 1964, 'incomunicado': 6343, 'demolida': 3581, 'cimiento': 2254, 'empanao': 4397, 'basandos': 1494, 'crispr': 3090, 'curar': 3255, 'malformacion': 7388, 'inmortalidad': 6524, 'deseabl': 3738, 'impilicacion': 6241, 'sociologia': 11206, 'neurologia': 8262, 'respuesa': 10528, 'concluyent': 2626, 'aceptara': 275, 'certidumbr': 2144, 'sujeta': 11426, 'matizacion': 7618, 'descubrimiento': 3731, 'posterior': 9432, 'hipotesi': 6012, 'magnifica': 7368, 'inesperado': 6433, 'grandeza': 5746, 'preveer': 9590, 'oraculo': 8589, 'delfo': 3534, 'precepto': 9464, 'rijan': 10634, 'acertadament': 292, 'acercamo': 284, 'acercan': 285, 'fantasma': 5289, 'nacionalismo': 8156, 'yihadismo': 12617, 'frecuentaban': 5498, 'jvene': 6930, 'cambril': 1866, 'provocó': 9814, 'apaciguar': 895, 'estructura': 4949, 'carden': 1948, 'transparent': 11915, 'tibio': 11686, 'lucharan': 7295, 'exigirían': 5070, 'transparencia': 11914, 'claridad': 2292, 'entregarno': 4642, 'incompleta': 6340, 'fiars': 5346, 'afirmado': 500, 'desconfiar': 3711, 'convincent': 2913, 'ilegalización': 6190, 'pirado': 9218, 'insinuado': 6547, 'interpretado': 6648, 'sealar': 10896, 'integra': 6583, 'hadic': 5906, 'interpretacion': 6646, 'malinterpretado': 7392, 'credo': 3052, 'virgen': 12420, 'contraproducent': 2848, 'realic': 10133, 'punibl': 9903, 'ámbito': 12662, 'llamaría': 7178, 'ismo': 6765, 'ilustrar': 6202, 'originalment': 8612, 'histori': 6022, 'mebhac': 7647, 'incita': 6317, 'as': 1134, 'arenga': 1068, 'despiporr': 3803, 'insunuar': 6580, 'descerebrada': 3705, 'apropiado': 1010, 'moderao': 7904, 'grecorromana': 5761, 'fantasía': 5290, 'haberno': 5839, 'librado': 7112, 'políticosoci': 9358, 'convencimiento': 2888, 'demuestr': 3590, 'obses': 8411, 'maniquea': 7468, 'manipulacion': 7461, 'aterradora': 1259, 'confirma': 2665, 'echarla': 4233, 'disolverla': 4077, 'vinculo': 12388, 'señalando': 11048, 'qatar': 9947, 'construirían': 2785, 'dificultando': 3949, 'futbol': 5566, 'lutero': 7313, 'conociera': 2712, 'bíblia': 1749, 'sunna': 11442, 'segurísimo': 10940, 'debilidad': 3377, 'enontrarán': 4558, 'ineficiencia': 6429, 'evolución': 5021, 'místico': 8135, 'polvo': 9352, 'haciéndolo': 5896, 'sdf': 10894, 'fútbol': 5583, 'intentai': 6613, 'cristianismoyo': 3096, 'fumai': 5535, 'asiduament': 1172, 'chiflada': 2183, 'audiencia': 1296, 'element': 4322, 'atocha': 1266, 'echábamo': 4238, 'temblar': 11595, 'heterodoxo': 5974, 'comedido': 2445, 'reunían': 10582, 'sumarían': 11436, 'fumador': 5534, 'bebedor': 1520, 'musulmán': 8103, 'razonado': 10117, 'reconocerlo': 10206, 'avanzada': 1354, 'expresarla': 5140, 'aniñado': 840, 'insultarl': 6576, 'elmero': 4344, 'tatareando': 11563, 'hirient': 6016, 'sxxi': 11503, 'per': 9013, 'tarareo': 11550, 'budismo': 1690, 'interpretan': 6649, 'torcillera': 11807, 'unidedireccion': 12088, 'pronunciado': 9731, 'pronuncio': 9734, 'dedicandos': 3445, 'dedicas': 3449, 'prohibiría': 9706, 'madera': 7349, 'armar': 1087, 'tiranía': 11720, 'yemen': 12613, 'podrido': 9316, 'cretino': 3063, 'soberbio': 11180, 'construyan': 2786, 'pagandola': 8668, 'practiquen': 9453, 'conviven': 2917, 'respetada': 10501, 'transmisión': 11911, 'abocan': 184, 'visitado': 12435, 'contabilizar': 2797, 'engañars': 4544, 'ángele': 12664, 'demonio': 3583, 'alah': 603, 'jesucristo': 6821, 'pederastia': 8921, 'raterillo': 10105, 'vírgene': 12567, 'prepúber': 9544, 'nobel': 8304, 'entramado': 4624, 'yihad': 12616, 'financiado': 5380, 'adulan': 466, 'enriquecido': 4566, 'ms': 8033, 'sobradament': 11185, 'compungido': 2587, 'dement': 3571, 'negociando': 8236, 'intelectual': 6600, 'islám': 6762, 'estn': 4922, 'patiriarkaazliiztaaz': 8887, 'clero': 2308, 'incluyendo': 6332, 'moonarkiaz': 7972, 'estadio': 4883, 'armamentista': 1084, 'baanko': 1420, 'batikaano': 1512, 'domina': 4141, 'felon': 5324, 'yuntero': 12628, 'loorka': 7281, 'yugo': 12627, 'curasantacruz': 3257, 'conjura': 2697, 'vilordo': 12385, 'dioooossss': 3997, 'veíamo': 12343, 'inofensiva': 6534, 'carezcan': 1956, 'pensábamo': 8999, 'necesitaba': 8208, 'consuelo': 2787, 'apoyars': 992, 'septiembr': 10999, 'cambió': 1864, 'revelada': 10584, 'letalment': 7070, 'rectitud': 10223, 'coraj': 2936, 'matars': 7600, 'inculca': 6364, 'enemistad': 4509, 'etiquetada': 4983, 'heredada': 5960, 'adquirido': 459, 'extrao': 5198, 'exclusividad': 5050, 'condenadament': 2637, 'dawkin': 3343, 'impericia': 6235, 'mosso': 8006, 'macareno': 7332, 'incomunicación': 6342, 'bican': 1564, 'coloca': 2412, 'bloquear': 1612, 'solitario': 11226, 'parpadeo': 8807, 'extensiva': 5171, 'integrismo': 6595, 'coranico': 2938, 'mezquitero': 7797, 'crecient': 3049, 'luna': 7310, 'preeminencia': 9486, 'ocultada': 8436, 'férreo': 5577, 'asentada': 1150, 'paquistani': 8748, 'bandaglesi': 1457, 'trilogía': 11972, 'visibl': 12430, 'gestion': 5678, 'activado': 352, 'llegamo': 7190, 'zoido': 12641, 'muuumal': 8111, 'mover': 8019, 'barretina': 1487, 'galon': 5593, 'activista': 357, 'aparecido': 911, 'núcleo': 8379, 'estelada': 4904, 'cubren': 3165, 'pacha': 8648, 'instalación': 6562, 'tozudo': 11835, 'explosión': 5114, 'desencadenado': 3746, 'ñapa': 12689, 'frustrada': 5519, 'qui': 10013, 'sa': 10740, 'dedicación': 3442, 'convicción': 2903, 'forn': 5457, 'represin': 10439, 'sustraen': 11497, '2200': 63, 'abertzal': 177, 'lanzar': 6985, 'nustr': 8373, 'quein': 9974, 'rabiosa': 10056, 'localizada': 7261, 'neutralizar': 8268, 'musuman': 8104, 'construccin': 2778, 'ulema': 12055, 'vierten': 12373, 'reedita': 10258, 'mein': 7675, 'kampf': 6936, 'tratara': 11938, 'supraterrorista': 11474, 'creadora': 3035, 'taliban': 11528, 'qaeda': 9946, 'macabra': 7331, 'petróleo': 9138, 'exigirlo': 5069, 'comiencen': 2481, 'hispano': 6019, 'aprendieran': 1004, 'serpient': 11012, 'mordido': 7986, 'amparaba': 781, 'atrev': 1288, 'macroatentado': 7345, 'sagrada': 10779, 'cordón': 2943, 'cutrez': 3272, 'derruida': 3660, 'apartado': 923, 'olía': 8535, 'ga': 5586, 'tedax': 11573, 'coordinación': 2925, 'apareció': 913, 'ramba': 10085, 'ataron': 1243, 'fluir': 5423, 'cardenal': 1949, 'bendecían': 1538, 'margarita': 7526, 'autodenominada': 1323, 'coexistir': 2349, 'profesor': 9670, 'uruguay': 12116, 'rémora': 10734, 'sumisión': 11439, 'calendario': 1815, 'obliguen': 8403, 'prepotencia': 9542, 'salafowahabita': 10788, 'cacho': 1771, 'necedad': 8201, 'vivalva': 12454, 'genérico': 5672, 'olfatea': 8522, 'hociquea': 6031, 'sustraers': 11498, 'cañita': 2084, 'rendirt': 10387, 'envolvers': 4672, 'debaten': 3358, 'contradic': 2841, 'oxígeno': 8634, 'respetabilidad': 10500, 'cañearl': 2083, 'trolearl': 11979, 'divisa': 4114, 'perpetuo': 9089, 'ejemplar': 4294, 'serán': 11022, 'malekun': 7386, 'sieg': 11076, 'heil': 5952, 'distingo': 4093, 'votaran': 12519, 'rescoldo': 10473, 'francofascista': 5488, 'alquiló': 711, 'carné': 1982, 'tarjeta': 11561, 'manejo': 7444, 'reliev': 10365, 'merecería': 7748, 'legisl': 7048, 'vestimenta': 12334, 'clima': 2315, 'habitual': 5852, 'denota': 3603, 'rito': 10641, 'anclada': 807, 'mención': 7702, 'suspiran': 11492, 'idolo': 6165, 'certertado': 2143, 'lavor': 7017, 'reconquista': 10211, 'aspiracion': 1201, 'separatismo': 10995, 'traduciendo': 11863, 'anciana': 805, 'móstole': 8136, 'edito': 4259, 'añado': 1415, 'empujón': 4444, 'tropezara': 11984, 'piño': 9243, 'pensara': 8989, 'moso': 8005, 'defienten': 3474, 'jove': 6852, 'oro': 8615, 'hola': 6034, 'vallan': 12185, 'inacción': 6301, 'zurr': 12656, 'extrajudici': 5190, 'presentarán': 9553, 'racita': 10067, 'garant': 5616, 'joderemo': 6831, 'entrará': 4630, 'guantazo': 5790, 'acordar': 333, 'entrara': 4628, 'tunda': 12004, 'movilizacion': 8026, 'tiramo': 11716, 'enviará': 4664, 'tutelada': 12018, 'buscará': 1731, 'reincidiendo': 10337, 'agredirla': 544, 'delincuentofobo': 3544, 'avanzadísima': 1355, 'quejar': 9981, 'bolivariana': 1622, 'marcando': 7515, 'deshumanizandolo': 3774, 'bajaría': 1438, 'delincunetes': 3545, 'hippi': 6014, 'perroflauta': 9092, 'francotirador': 5489, 'dredd': 4165, 'gobernara': 5713, 'escasean': 4733, 'linchan': 7148, 'retien': 10556, 'caco': 1775, 'paralela': 8760, 'urbanizacion': 12106, 'funcionara': 5545, 'deriven': 3652, 'sistemática': 11159, 'podriamo': 9313, 'merguez': 7752, 'ningunaant': 8286, 'centroderecha': 2118, 'suelten': 11394, 'practicado': 9447, 'cuatrosi': 3161, 'protegiéndos': 9785, 'calma': 1835, 'robot': 10661, 'infravalora': 6478, 'sensacion': 10966, 'dandol': 3325, 'mencionado': 7699, 'explícitament': 5126, 'linchamiento': 7147, 'acumula': 388, 'aprenden': 1001, 'zurran': 12658, 'blanqueemo': 1603, 'ése': 12676, 'deteniendo': 3865, 'sonar': 11265, 'santurc': 10871, 'tiraron': 11724, 'robará': 10656, 'antidemocrática': 862, 'descans': 3692, 'pillo': 9195, 'lament': 6977, 'encuentr': 4498, 'voxemia': 12532, 'seguirá': 10930, 'provocará': 9812, 'haremo': 5919, 'dea': 3352, 'vocal': 12482, 'alcalá': 622, 'henar': 5957, 'rifirraf': 10630, 'retención': 10551, 'palito': 8713, 'follado': 5429, 'subo': 11343, 'costears': 3011, 'beberlo': 1523, 'costeart': 3012, 'herida': 5964, 'joya': 6855, 'sentiment': 10976, 'exculparlo': 5057, 'hallan': 5916, 'abuel': 225, 'comies': 2484, 'pure': 9910, 'pajita': 8697, 'limpien': 7144, 'extinto': 5181, 'leyo': 7087, 'reinsertar': 10340, 'cronificarno': 3110, 'constitución': 2777, 'empeorar': 4404, 'delincuentesi': 3543, 'aducación': 465, 'derechapu': 3645, 'articulacion': 1129, 'amargura': 750, 'liarla': 7102, 'zurrando': 12659, 'civismo': 2282, 'elevado': 4328, 'saña': 10891, 'emanan': 4357, 'agrad': 525, 'calar': 1810, 'retorc': 10563, 'retirado': 10560, 'cortarl': 2989, 'imponerl': 6254, 'justícia': 6918, 'agredimo': 542, 'odiamo': 8465, 'dependr': 3622, 'serà': 11020, 'prosperidad': 9769, 'zoo': 12644, 'tachado': 11521, 'enganchada': 4534, 'gritarla': 5775, 'querría': 10006, 'monstruoso': 7951, 'retendio': 10552, 'recuperamo': 10229, 'tocamo': 11746, 'mantuvimo': 7496, 'retenido': 10555, 'vaciars': 12163, 'suelt': 11391, 'enví': 4675, 'izquierdaporqu': 6780, 'linchar': 7149, 'tirarlo': 11723, 'robándol': 10662, 'ración': 10068, 'apalea': 898, 'rompan': 10690, 'evitarán': 5018, 'prácticta': 9828, 'casualment': 2036, 'aficionado': 493, 'dedicado': 3443, 'cambi': 1844, 'valido': 12179, 'peganiño': 8940, 'apaliza': 901, 'apalizado': 902, 'empurado': 4445, 'capon': 1925, 'empujon': 4443, 'apalizamiento': 903, 'prenden': 9521, 'confundirlo': 2682, 'progreta': 9692, 'internec': 6641, 'actuara': 371, 'palmadita': 8718, 'planteamo': 9268, 'poser': 9414, 'malmet': 7396, 'racism': 10064, 'feixista': 5315, 'filia': 5366, 'solucionemo': 11247, 'tipica': 11706, 'persiguio': 9104, 'mataramo': 7594, 'nacieran': 8148, 'julio': 6888, 'chupet': 2217, 'muelan': 8051, 'retengan': 10554, 'zumbarl': 12652, 'aprenda': 999, 'volvái': 12506, 'aprendái': 1005, 'solucionan': 11243, 'atreven': 1289, 'ocultars': 8441, 'tien': 11689, 'cumplirsino': 3246, 'convenient': 2891, 'latinoamerica': 7008, 'despotricái': 3809, 'cuelga': 3177, 'pretexto': 9588, 'asalto': 1140, 'estabamo': 4875, 'haciendos': 5892, 'telefonica': 11584, 'profes': 9666, 'funcionando': 5543, 'sorprendent': 11285, 'plagado': 9246, 'patearl': 8880, 'cargars': 1965, 'ratero': 10106, 'caracterizan': 1934, 'recibirá': 10176, 'susodicho': 11490, 'aventuro': 1364, 'eurooccident': 4995, 'recibiría': 10178, 'fechoría': 5313, 'agradezca': 530, 'carcelaria': 1946, 'entregarm': 4641, 'cambiarpero': 1855, 'acata': 257, 'marco': 7523, 'atenerno': 1251, 'medido': 7660, 'mirará': 7868, 'reducirá': 10253, 'cebado': 2091, 'sudáfrica': 11379, 'neumático': 8261, 'rocían': 10667, 'llegaría': 7197, 'fresquito': 5508, 'noruego': 8334, 'esperamo': 4846, 'concentracion': 2610, 'pijo': 9178, 'pasándos': 8872, 'medieval': 7662, 'excepcion': 5038, 'patrio': 8895, 'tiron': 11730, 'rompa': 10689, 'alumno': 736, 'zafars': 12632, 'huyó': 6124, 'refugió': 10294, 'enfrent': 4525, 'integristareligiosofobo': 6596, 'kamikazedelvolantefobo': 6935, 'negacionista': 8223, 'climáticofobo': 2318, 'exaltan': 5035, 'austria': 1315, 'ineficaz': 6428, 'envio': 4667, 'ternia': 11655, '78': 140, 'arrancarl': 1095, 'misero': 7879, 'desvalido': 3845, 'muiy': 8068, 'ironíco': 6724, 'agredió': 545, 'portal': 9409, 'barrot': 1490, 'buzón': 1740, 'ticket': 11687, 'negaron': 8229, 'rozando': 10707, 'llleno': 7238, 'grandmoth': 5747, 'negativosi': 8233, 'nochepor': 8307, 'ejemplovien': 4296, 'reventart': 10587, 'levant': 7074, 'manita': 7469, 'bailecon': 1429, 'coreografía': 2944, 'todoehhqu': 11759, 'medita': 7667, 'bail': 1427, 'llamadala': 7167, 'coreografíael': 2945, 'quiten': 10048, 'encina': 4488, 'miguel': 7822, 'urban': 12105, 'europarlamentario': 4997, 'guantada': 5789, 'preferido': 9490, 'habiendos': 5843, 'dejación': 3496, 'asiatico': 1171, 'atraca': 1269, 'consideren': 2750, 'denominador': 3601, 'sinonimo': 11143, 'camp': 1874, 'mario': 7539, 'cond': 2634, 'carlo': 1975, 'fabra': 5217, 'pegarl': 8942, 'exagerado': 5030, 'sangrar': 10861, 'entrena': 4644, 'jajaj': 6786, 'indefensa': 6375, 'colleja': 2409, '75kg': 139, 'pesa': 9122, 'chavalín': 2176, 'intubado': 6667, 'uci': 12047, 'rasguño': 10098, 'complica': 2545, 'profundo': 9675, 'materializar': 7612, 'escribiendo': 4763, 'comería': 2470, 'clemencia': 2305, 'perdonarlo': 9034, 'barbari': 1471, 'pagabamo': 8661, 'actuas': 374, 'molido': 7932, 'retenerlo': 10553, 'justifico': 6914, 'asalta': 1136, 'chulo': 2212, 'brutalidad': 1683, 'baneo': 1462, 'ideologico': 6152, 'webo': 12577, 'sopesen': 11272, 'guardo': 5799, 'anglé': 830, 'aparta': 922, 'mostol': 8007, 'girona': 5697, 'hospi': 6070, '8090': 145, 'nacionales': 8154, 'oscurantismo': 8620, 'aplaudiéndot': 947, 'trafican': 11874, 'inmutado': 6528, 'cuñado': 3280, 'justifican': 6909, 'guano': 5787, 'amplí': 790, 'confinamiento': 2664, 'subvencionarlo': 11356, 'coronabicho': 2950, 'oleaj': 8521, 'openarm': 8555, 'lloran': 7242, 'enterrador': 4607, 'adio': 422, 'rulen': 10718, 'inverosímil': 6685, 'smra': 11176, 'nepo': 8256, 'rotodosiano': 10706, 'volverían': 12500, 'jajajajajaja': 6791, 'larva': 6998, 'mamando': 7415, 'vecinal': 12228, 'x1000': 12593, 'ozono': 8638, 'regenera': 10305, 'reproducen': 10444, 'muucho': 8109, 'muries': 8096, 'jajajajajjaja': 6794, 'dinnnnn': 3991, 'ahorrado': 579, 'leerm': 7036, 'ofrezca': 8499, 'impedimento': 6232, 'enterai': 4600, 'x3': 12594, 'salirt': 10811, '23x': 67, 'expropiar': 5150, 'tirada': 11714, 'fletando': 5410, 'carguero': 1967, 'widgetplayoncentercomvideocadavezsalenmaspaterasvascasbuscandolacostaafricana8527489821': 12581, 'huian': 6089, 'decian': 3397, 'hdp': 5946, 'volveran': 12495, 'ladilla': 6965, 'huesp': 6084, 'maravilla': 7510, 'dure': 4195, 'sancheziglesia': 10851, 'ferri': 5339, 'esenci': 4786, 'undertaken': 12078, 'email': 4356, 'ongi': 8547, 'etorri': 4986, 'impidiendo': 6240, 'regresen': 10318, 'subirán': 11334, 'financiando': 5381, 'lacovid': 6962, 'fibra': 5347, 'bifidu': 1576, 'supuran': 11483, 'covid': 3026, 'parasitear': 8769, 'shurmano': 11068, 'saqué': 10875, 'diseas': 4051, 'cruzando': 3120, '829': 149, 'infección': 6441, 'abría': 211, 'abrirl': 207, 'corredor': 2961, 'extend': 5169, 'pirar': 9220, 'minima': 7844, 'yéndose': 12631, 'chupoptera': 2219, 'multiculturalizado': 8079, 'inhumana': 6497, 'tomadura': 11774, 'sobvenciona': 11196, 'atontao': 1267, '5k': 125, 'ahorran': 580, 'esparcir': 4818, 'huy': 6119, 'plataahora': 9275, 'investiguen': 6697, 'ratadan': 10104, 'incom': 6336, 'ida': 6136, 'ehhh': 4288, 'gif': 5688, 'ardiendo': 1065, 'barquito': 1483, 'port': 9405, '5000e': 116, 'quimioterapia': 10023, 'vencer': 12245, 'sacaría': 10770, 'f100': 5216, 'fletarla': 5412, 'sensibilizars': 10971, 'hahahahahahahahaahah': 5912, 'kafkiana': 6932, 'veña': 12345, 'noit': 8313, 'mediterraneo': 7670, 'lancha': 6981, 'neumatica': 8260, 'acercar': 286, 'ridiculez': 10616, 'organizaba': 8596, 'charter': 2170, 'boyant': 1657, 'casipol': 2009, 'juntaran': 6894, 'descuento': 3734, 'ultrapobr': 12068, 'paisseguro': 8694, 'dejándolo': 3526, 'nadando': 8170, 'volando': 12485, 'marruecosexpoliada': 7553, 'guerr': 5803, 'ohhh': 8504, 'whait': 12580, 'escapar': 4727}\n"
     ]
    }
   ],
   "source": [
    "print(tfidf_vect.vocabulary_)"
   ]
  },
  {
   "source": [
    "### Evaluación de modelos - Variable `toxicity`"
   ],
   "cell_type": "markdown",
   "metadata": {}
  },
  {
   "source": [
    "#### Support Vector Machines (SVM)"
   ],
   "cell_type": "markdown",
   "metadata": {}
  },
  {
   "source": [
    "Una vez obtenidos los coeficientes de importancia de cada uno de los términos, se pasa a realizar el entrenamiento de un modelo, en este caso se va a empezar por el modelo de Máquinas de Soporte Vectorial"
   ],
   "cell_type": "markdown",
   "metadata": {}
  },
  {
   "cell_type": "code",
   "execution_count": 34,
   "metadata": {},
   "outputs": [],
   "source": [
    "svm_clf = SVC(C=1.0, kernel='linear', degree=3, gamma='auto')\n",
    "svm_clf.fit(train_X_Tfidf,train_Y)\n",
    "predictions_SVM = svm_clf.predict(test_X_Tfidf)"
   ]
  },
  {
   "cell_type": "code",
   "execution_count": 35,
   "metadata": {},
   "outputs": [
    {
     "output_type": "execute_result",
     "data": {
      "text/plain": [
       "0.6812138588705624"
      ]
     },
     "metadata": {},
     "execution_count": 35
    }
   ],
   "source": [
    "score_svm = f1_score(test_Y, predictions_SVM, average='macro')\n",
    "score_svm"
   ]
  },
  {
   "source": [
    "Una vez entrenado el corpus con TF-IDF junto con el algoritmo de SVM, se puede observar que su F1-Score es de 0.68. Para una primera evaluación de dicho modelo, se puede decir que su resultado es mejorable pero no es un valor del todo malo ya que el valor óptimo de dicha métrica sería de 1."
   ],
   "cell_type": "markdown",
   "metadata": {}
  },
  {
   "source": [
    "#### Decision Tree"
   ],
   "cell_type": "markdown",
   "metadata": {}
  },
  {
   "cell_type": "code",
   "execution_count": 39,
   "metadata": {},
   "outputs": [],
   "source": [
    "tree_clf = DecisionTreeClassifier()\n",
    "tree_clf.fit(train_X_Tfidf,train_Y)\n",
    "predictions_tree = tree_clf.predict(test_X_Tfidf)"
   ]
  },
  {
   "cell_type": "code",
   "execution_count": 40,
   "metadata": {},
   "outputs": [
    {
     "output_type": "execute_result",
     "data": {
      "text/plain": [
       "0.6719990207195135"
      ]
     },
     "metadata": {},
     "execution_count": 40
    }
   ],
   "source": [
    "score_tree = f1_score(test_Y, predictions_tree, average='macro')\n",
    "score_tree"
   ]
  },
  {
   "source": [
    "En este caso se ha entrenado un árbol de decisión (también con la previa extracción de características de TF-IDF) y se puede observar como su F1-Score es muy similar al del modelo de Máquinas de Soporte Vectorial."
   ],
   "cell_type": "markdown",
   "metadata": {}
  },
  {
   "source": [
    "#### Logistic Regression"
   ],
   "cell_type": "markdown",
   "metadata": {}
  },
  {
   "cell_type": "code",
   "execution_count": 41,
   "metadata": {},
   "outputs": [],
   "source": [
    "logreg_clf = LogisticRegression()\n",
    "logreg_clf.fit(train_X_Tfidf,train_Y)\n",
    "predictions_logreg = logreg_clf.predict(test_X_Tfidf)"
   ]
  },
  {
   "cell_type": "code",
   "execution_count": 42,
   "metadata": {},
   "outputs": [
    {
     "output_type": "execute_result",
     "data": {
      "text/plain": [
       "0.5718558432742894"
      ]
     },
     "metadata": {},
     "execution_count": 42
    }
   ],
   "source": [
    "score_logreg = f1_score(test_Y, predictions_logreg, average='macro')\n",
    "score_logreg"
   ]
  },
  {
   "source": [
    "En tercer caso, se ha evaluado un modelo de regresión logística y su valor de F1-Score es muy inferior al de los anteriores modelos realizados (0.57 aproximadamente)"
   ],
   "cell_type": "markdown",
   "metadata": {}
  },
  {
   "source": [
    "#### Perceptrón multicapa"
   ],
   "cell_type": "markdown",
   "metadata": {}
  },
  {
   "cell_type": "code",
   "execution_count": 44,
   "metadata": {},
   "outputs": [],
   "source": [
    "mlp_clf = MLPClassifier(random_state=1, max_iter=300)\n",
    "mlp_clf.fit(train_X_Tfidf,train_Y)\n",
    "predictions_mlp = mlp_clf.predict(test_X_Tfidf)"
   ]
  },
  {
   "source": [
    "No hace falta ejecutarlo"
   ],
   "cell_type": "markdown",
   "metadata": {}
  },
  {
   "cell_type": "code",
   "execution_count": 45,
   "metadata": {},
   "outputs": [
    {
     "output_type": "execute_result",
     "data": {
      "text/plain": [
       "0.670053244909753"
      ]
     },
     "metadata": {},
     "execution_count": 45
    }
   ],
   "source": [
    "score_mlp = f1_score(test_Y, predictions_mlp, average='macro')\n",
    "score_mlp"
   ]
  },
  {
   "source": [
    "Finalmente, se ha evaluado un perceptrón multicapa y se ha obtenido un F1-Score muy similar a los modelos de Regresión Logística y Máquinas de Soporte Vectorial"
   ],
   "cell_type": "markdown",
   "metadata": {}
  },
  {
   "source": [
    "Todo lo que se ha realizado anteriormente ha sido mediante la variable `toxicity`. Debido a que hay dos tareas, a continuación, se pasa a realizar el mismo proceso para la variable desglosada de `toxicity_level`."
   ],
   "cell_type": "markdown",
   "metadata": {}
  },
  {
   "cell_type": "code",
   "execution_count": 46,
   "metadata": {},
   "outputs": [],
   "source": [
    "train_X_, test_X_, train_Y_, test_Y_ = train_test_split(sample_data['comment'], sample_data['toxicity_level'], test_size=0.3)"
   ]
  },
  {
   "cell_type": "code",
   "execution_count": 47,
   "metadata": {},
   "outputs": [],
   "source": [
    "tfidf_vect_ = TfidfVectorizer()\n",
    "tfidf_vect_.fit(sample_data['comment'])\n",
    "train_X_Tfidf_ = tfidf_vect_.transform(train_X_)\n",
    "test_X_Tfidf_ = tfidf_vect_.transform(test_X_)"
   ]
  },
  {
   "source": [
    "### Evaluación de modelos - Variable `toxicity_level`"
   ],
   "cell_type": "markdown",
   "metadata": {}
  },
  {
   "source": [
    "#### Support Vector Machines (SVM)"
   ],
   "cell_type": "markdown",
   "metadata": {}
  },
  {
   "cell_type": "code",
   "execution_count": null,
   "metadata": {},
   "outputs": [],
   "source": []
  },
  {
   "cell_type": "code",
   "execution_count": 61,
   "metadata": {},
   "outputs": [],
   "source": [
    "svm_clf_ = SVC(C=1.0, kernel='linear', degree=3, gamma='auto', class_weight=\"balanced\")\n",
    "svm_clf_.fit(train_X_Tfidf_,train_Y_)\n",
    "predictions_SVM_ = svm_clf.predict(test_X_Tfidf_)"
   ]
  },
  {
   "cell_type": "code",
   "execution_count": 62,
   "metadata": {},
   "outputs": [
    {
     "output_type": "execute_result",
     "data": {
      "text/plain": [
       "0.39164858927476953"
      ]
     },
     "metadata": {},
     "execution_count": 62
    }
   ],
   "source": [
    "score_svm_ = f1_score(test_Y_, predictions_SVM_, average='macro')\n",
    "score_svm_"
   ]
  },
  {
   "source": [
    "En este caso, utilizando la variable `toxicity_level`, se puede observar como el F1-Score ha disminuido radicalmente respecto a la anterior variable (0.40 aproximadamente)"
   ],
   "cell_type": "markdown",
   "metadata": {}
  },
  {
   "source": [
    "#### Decision Tree"
   ],
   "cell_type": "markdown",
   "metadata": {}
  },
  {
   "cell_type": "code",
   "execution_count": 63,
   "metadata": {},
   "outputs": [],
   "source": [
    "tree_clf_ = DecisionTreeClassifier(class_weight=\"balanced\")\n",
    "tree_clf_.fit(train_X_Tfidf_,train_Y_)\n",
    "predictions_tree_ = tree_clf_.predict(test_X_Tfidf_)"
   ]
  },
  {
   "cell_type": "code",
   "execution_count": 64,
   "metadata": {},
   "outputs": [
    {
     "output_type": "execute_result",
     "data": {
      "text/plain": [
       "0.31845286557190056"
      ]
     },
     "metadata": {},
     "execution_count": 64
    }
   ],
   "source": [
    "score_tree_ = f1_score(test_Y_, predictions_tree_, average='macro')\n",
    "score_tree_"
   ]
  },
  {
   "source": [
    "El F1-Score utilizando un árbol de decisión es de 0.31, un resultado bastante pobre."
   ],
   "cell_type": "markdown",
   "metadata": {}
  },
  {
   "source": [
    "#### Logistic Regression"
   ],
   "cell_type": "markdown",
   "metadata": {}
  },
  {
   "cell_type": "code",
   "execution_count": 66,
   "metadata": {},
   "outputs": [],
   "source": [
    "logreg_clf_ = LogisticRegression(class_weight=\"balanced\")\n",
    "logreg_clf_.fit(train_X_Tfidf_,train_Y_)\n",
    "predictions_logreg_ = logreg_clf_.predict(test_X_Tfidf_)"
   ]
  },
  {
   "cell_type": "code",
   "execution_count": 67,
   "metadata": {},
   "outputs": [
    {
     "output_type": "execute_result",
     "data": {
      "text/plain": [
       "0.39045786513335085"
      ]
     },
     "metadata": {},
     "execution_count": 67
    }
   ],
   "source": [
    "score_logreg_ = f1_score(test_Y_, predictions_logreg_, average='macro')\n",
    "score_logreg_"
   ]
  },
  {
   "source": [
    "#### Perceptrón multicapa"
   ],
   "cell_type": "markdown",
   "metadata": {}
  },
  {
   "cell_type": "code",
   "execution_count": 70,
   "metadata": {},
   "outputs": [],
   "source": [
    "mlp_clf_ = MLPClassifier(random_state=1, max_iter=300)\n",
    "mlp_clf_.fit(train_X_Tfidf_,train_Y_)\n",
    "predictions_mlp_ = mlp_clf_.predict(test_X_Tfidf_)"
   ]
  },
  {
   "cell_type": "code",
   "execution_count": 71,
   "metadata": {},
   "outputs": [
    {
     "output_type": "execute_result",
     "data": {
      "text/plain": [
       "0.288129879836838"
      ]
     },
     "metadata": {},
     "execution_count": 71
    }
   ],
   "source": [
    "score_mlp_ = f1_score(test_Y_, predictions_mlp_, average='macro')\n",
    "score_mlp_"
   ]
  }
 ]
}