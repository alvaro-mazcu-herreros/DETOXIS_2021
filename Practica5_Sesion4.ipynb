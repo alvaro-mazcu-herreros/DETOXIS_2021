{
  "nbformat": 4,
  "nbformat_minor": 0,
  "metadata": {
    "colab": {
      "name": "Practica5_Sesion4.ipynb",
      "provenance": [],
      "toc_visible": true
    },
    "kernelspec": {
      "name": "python3",
      "display_name": "Python 3"
    },
    "language_info": {
      "name": "python"
    }
  },
  "cells": [
    {
      "cell_type": "markdown",
      "metadata": {
        "id": "bKSU2s8wbxML"
      },
      "source": [
        "# Detection of TOXicity in comments in Spanish (DETOXIS 2021)\n",
        "\n",
        "## SESIÓN 2.4: Combinación de clasificadores\n",
        "\n",
        "### Realizado por Álvaro Mazcuñán y Miquel Marín"
      ]
    },
    {
      "cell_type": "markdown",
      "metadata": {
        "id": "QH8XFIRBc3Xh"
      },
      "source": [
        "#### Librerías"
      ]
    },
    {
      "cell_type": "code",
      "metadata": {
        "id": "6IZzXwX5c3pz"
      },
      "source": [
        "import pandas as pd\n",
        "import re\n",
        "import string\n",
        "import numpy as np\n",
        "\n",
        "import nltk\n",
        "from nltk.corpus import stopwords\n",
        "from nltk.tokenize import word_tokenize\n",
        "from nltk.stem import PorterStemmer\n",
        "from nltk.stem import WordNetLemmatizer\n",
        "\n",
        "from sklearn.feature_extraction.text import CountVectorizer\n",
        "from sklearn.feature_extraction.text import TfidfVectorizer\n",
        "\n",
        "from sklearn.naive_bayes import MultinomialNB\n",
        "from sklearn.tree import DecisionTreeClassifier\n",
        "from sklearn.linear_model import LogisticRegression\n",
        "from sklearn.svm import SVC\n",
        "from sklearn.neural_network import MLPClassifier\n",
        "from sklearn.ensemble import RandomForestClassifier\n",
        "\n",
        "from sklearn.ensemble import StackingClassifier\n",
        "\n",
        "from sklearn.model_selection import train_test_split\n",
        "from sklearn.metrics import f1_score\n",
        "from sklearn.metrics import accuracy_score\n",
        "\n",
        "import warnings"
      ],
      "execution_count": 3,
      "outputs": []
    },
    {
      "cell_type": "code",
      "metadata": {
        "id": "wTxI7Jeic_kg"
      },
      "source": [
        "warnings.filterwarnings(\"ignore\")"
      ],
      "execution_count": 4,
      "outputs": []
    },
    {
      "cell_type": "code",
      "metadata": {
        "colab": {
          "base_uri": "https://localhost:8080/"
        },
        "id": "AJrwNdUYdA_d",
        "outputId": "ab273686-5577-4409-fe47-a1a4950c5d15"
      },
      "source": [
        "nltk.download(\"punkt\")\n",
        "nltk.download(\"stopwords\")\n",
        "nltk.download(\"wordnet\")"
      ],
      "execution_count": 5,
      "outputs": [
        {
          "output_type": "stream",
          "text": [
            "[nltk_data] Downloading package punkt to /root/nltk_data...\n",
            "[nltk_data]   Package punkt is already up-to-date!\n",
            "[nltk_data] Downloading package stopwords to /root/nltk_data...\n",
            "[nltk_data]   Package stopwords is already up-to-date!\n",
            "[nltk_data] Downloading package wordnet to /root/nltk_data...\n",
            "[nltk_data]   Package wordnet is already up-to-date!\n"
          ],
          "name": "stdout"
        },
        {
          "output_type": "execute_result",
          "data": {
            "text/plain": [
              "True"
            ]
          },
          "metadata": {
            "tags": []
          },
          "execution_count": 5
        }
      ]
    },
    {
      "cell_type": "markdown",
      "metadata": {
        "id": "GxR4GAZPBvdn"
      },
      "source": [
        "#### Carga de datos DETOXIS"
      ]
    },
    {
      "cell_type": "code",
      "metadata": {
        "colab": {
          "base_uri": "https://localhost:8080/",
          "height": 706
        },
        "id": "PeuU-nycdCNB",
        "outputId": "c39e84a8-25a2-45ea-c721-97971791aefe"
      },
      "source": [
        "df = pd.read_csv(\"DATASET_DETOXIS.csv\")\n",
        "df"
      ],
      "execution_count": 6,
      "outputs": [
        {
          "output_type": "execute_result",
          "data": {
            "text/html": [
              "<div>\n",
              "<style scoped>\n",
              "    .dataframe tbody tr th:only-of-type {\n",
              "        vertical-align: middle;\n",
              "    }\n",
              "\n",
              "    .dataframe tbody tr th {\n",
              "        vertical-align: top;\n",
              "    }\n",
              "\n",
              "    .dataframe thead th {\n",
              "        text-align: right;\n",
              "    }\n",
              "</style>\n",
              "<table border=\"1\" class=\"dataframe\">\n",
              "  <thead>\n",
              "    <tr style=\"text-align: right;\">\n",
              "      <th></th>\n",
              "      <th>topic</th>\n",
              "      <th>thread_id</th>\n",
              "      <th>comment_id</th>\n",
              "      <th>reply_to</th>\n",
              "      <th>comment_level</th>\n",
              "      <th>comment</th>\n",
              "      <th>argumentation</th>\n",
              "      <th>constructiveness</th>\n",
              "      <th>positive_stance</th>\n",
              "      <th>negative_stance</th>\n",
              "      <th>target_person</th>\n",
              "      <th>target_group</th>\n",
              "      <th>stereotype</th>\n",
              "      <th>sarcasm</th>\n",
              "      <th>mockery</th>\n",
              "      <th>insult</th>\n",
              "      <th>improper_language</th>\n",
              "      <th>aggressiveness</th>\n",
              "      <th>intolerance</th>\n",
              "      <th>toxicity</th>\n",
              "      <th>toxicity_level</th>\n",
              "    </tr>\n",
              "  </thead>\n",
              "  <tbody>\n",
              "    <tr>\n",
              "      <th>0</th>\n",
              "      <td>CR</td>\n",
              "      <td>0_000</td>\n",
              "      <td>0_002</td>\n",
              "      <td>0_002</td>\n",
              "      <td>1</td>\n",
              "      <td>Pensó: Zumo para restar.</td>\n",
              "      <td>0</td>\n",
              "      <td>0</td>\n",
              "      <td>0</td>\n",
              "      <td>0</td>\n",
              "      <td>0</td>\n",
              "      <td>0</td>\n",
              "      <td>0</td>\n",
              "      <td>0</td>\n",
              "      <td>1</td>\n",
              "      <td>0</td>\n",
              "      <td>0</td>\n",
              "      <td>0</td>\n",
              "      <td>0</td>\n",
              "      <td>1</td>\n",
              "      <td>1</td>\n",
              "    </tr>\n",
              "    <tr>\n",
              "      <th>1</th>\n",
              "      <td>CR</td>\n",
              "      <td>0_001</td>\n",
              "      <td>0_003</td>\n",
              "      <td>0_003</td>\n",
              "      <td>1</td>\n",
              "      <td>Como les gusta el afeitado en seco a esta gente.</td>\n",
              "      <td>0</td>\n",
              "      <td>0</td>\n",
              "      <td>0</td>\n",
              "      <td>0</td>\n",
              "      <td>0</td>\n",
              "      <td>1</td>\n",
              "      <td>1</td>\n",
              "      <td>1</td>\n",
              "      <td>1</td>\n",
              "      <td>0</td>\n",
              "      <td>0</td>\n",
              "      <td>0</td>\n",
              "      <td>0</td>\n",
              "      <td>1</td>\n",
              "      <td>1</td>\n",
              "    </tr>\n",
              "    <tr>\n",
              "      <th>2</th>\n",
              "      <td>CR</td>\n",
              "      <td>0_002</td>\n",
              "      <td>0_004</td>\n",
              "      <td>0_004</td>\n",
              "      <td>1</td>\n",
              "      <td>asi me gusta, que se maten entre ellos y en al...</td>\n",
              "      <td>0</td>\n",
              "      <td>0</td>\n",
              "      <td>0</td>\n",
              "      <td>0</td>\n",
              "      <td>0</td>\n",
              "      <td>1</td>\n",
              "      <td>0</td>\n",
              "      <td>0</td>\n",
              "      <td>0</td>\n",
              "      <td>0</td>\n",
              "      <td>0</td>\n",
              "      <td>1</td>\n",
              "      <td>1</td>\n",
              "      <td>1</td>\n",
              "      <td>2</td>\n",
              "    </tr>\n",
              "    <tr>\n",
              "      <th>3</th>\n",
              "      <td>CR</td>\n",
              "      <td>0_003</td>\n",
              "      <td>0_005</td>\n",
              "      <td>0_005</td>\n",
              "      <td>1</td>\n",
              "      <td>Loss mas valientes, los que mejor cortan nuest...</td>\n",
              "      <td>0</td>\n",
              "      <td>0</td>\n",
              "      <td>0</td>\n",
              "      <td>0</td>\n",
              "      <td>1</td>\n",
              "      <td>1</td>\n",
              "      <td>0</td>\n",
              "      <td>1</td>\n",
              "      <td>1</td>\n",
              "      <td>0</td>\n",
              "      <td>0</td>\n",
              "      <td>0</td>\n",
              "      <td>0</td>\n",
              "      <td>1</td>\n",
              "      <td>1</td>\n",
              "    </tr>\n",
              "    <tr>\n",
              "      <th>4</th>\n",
              "      <td>CR</td>\n",
              "      <td>0_004</td>\n",
              "      <td>0_006</td>\n",
              "      <td>0_006</td>\n",
              "      <td>1</td>\n",
              "      <td>Costumbres...</td>\n",
              "      <td>0</td>\n",
              "      <td>0</td>\n",
              "      <td>0</td>\n",
              "      <td>0</td>\n",
              "      <td>0</td>\n",
              "      <td>1</td>\n",
              "      <td>1</td>\n",
              "      <td>0</td>\n",
              "      <td>0</td>\n",
              "      <td>0</td>\n",
              "      <td>0</td>\n",
              "      <td>0</td>\n",
              "      <td>0</td>\n",
              "      <td>1</td>\n",
              "      <td>1</td>\n",
              "    </tr>\n",
              "    <tr>\n",
              "      <th>...</th>\n",
              "      <td>...</td>\n",
              "      <td>...</td>\n",
              "      <td>...</td>\n",
              "      <td>...</td>\n",
              "      <td>...</td>\n",
              "      <td>...</td>\n",
              "      <td>...</td>\n",
              "      <td>...</td>\n",
              "      <td>...</td>\n",
              "      <td>...</td>\n",
              "      <td>...</td>\n",
              "      <td>...</td>\n",
              "      <td>...</td>\n",
              "      <td>...</td>\n",
              "      <td>...</td>\n",
              "      <td>...</td>\n",
              "      <td>...</td>\n",
              "      <td>...</td>\n",
              "      <td>...</td>\n",
              "      <td>...</td>\n",
              "      <td>...</td>\n",
              "    </tr>\n",
              "    <tr>\n",
              "      <th>3458</th>\n",
              "      <td>MI</td>\n",
              "      <td>20_134</td>\n",
              "      <td>20_164</td>\n",
              "      <td>20_164</td>\n",
              "      <td>1</td>\n",
              "      <td>Ya decía yo que veía menos moros</td>\n",
              "      <td>0</td>\n",
              "      <td>0</td>\n",
              "      <td>0</td>\n",
              "      <td>0</td>\n",
              "      <td>0</td>\n",
              "      <td>1</td>\n",
              "      <td>0</td>\n",
              "      <td>0</td>\n",
              "      <td>1</td>\n",
              "      <td>1</td>\n",
              "      <td>0</td>\n",
              "      <td>0</td>\n",
              "      <td>0</td>\n",
              "      <td>1</td>\n",
              "      <td>1</td>\n",
              "    </tr>\n",
              "    <tr>\n",
              "      <th>3459</th>\n",
              "      <td>MI</td>\n",
              "      <td>20_006</td>\n",
              "      <td>20_165</td>\n",
              "      <td>20_008</td>\n",
              "      <td>2</td>\n",
              "      <td>+1. Como lo sabes...</td>\n",
              "      <td>0</td>\n",
              "      <td>0</td>\n",
              "      <td>1</td>\n",
              "      <td>0</td>\n",
              "      <td>0</td>\n",
              "      <td>0</td>\n",
              "      <td>0</td>\n",
              "      <td>0</td>\n",
              "      <td>0</td>\n",
              "      <td>0</td>\n",
              "      <td>0</td>\n",
              "      <td>0</td>\n",
              "      <td>0</td>\n",
              "      <td>0</td>\n",
              "      <td>0</td>\n",
              "    </tr>\n",
              "    <tr>\n",
              "      <th>3460</th>\n",
              "      <td>MI</td>\n",
              "      <td>20_135</td>\n",
              "      <td>20_166</td>\n",
              "      <td>20_166</td>\n",
              "      <td>1</td>\n",
              "      <td>Seguirán cobrando paguitas en Marruecos,expoli...</td>\n",
              "      <td>0</td>\n",
              "      <td>0</td>\n",
              "      <td>0</td>\n",
              "      <td>0</td>\n",
              "      <td>0</td>\n",
              "      <td>1</td>\n",
              "      <td>1</td>\n",
              "      <td>0</td>\n",
              "      <td>0</td>\n",
              "      <td>0</td>\n",
              "      <td>0</td>\n",
              "      <td>0</td>\n",
              "      <td>1</td>\n",
              "      <td>1</td>\n",
              "      <td>1</td>\n",
              "    </tr>\n",
              "    <tr>\n",
              "      <th>3461</th>\n",
              "      <td>MI</td>\n",
              "      <td>20_136</td>\n",
              "      <td>20_167</td>\n",
              "      <td>20_167</td>\n",
              "      <td>1</td>\n",
              "      <td>pobres, se arriesgan en pateras porque huyen d...</td>\n",
              "      <td>0</td>\n",
              "      <td>0</td>\n",
              "      <td>0</td>\n",
              "      <td>0</td>\n",
              "      <td>0</td>\n",
              "      <td>1</td>\n",
              "      <td>0</td>\n",
              "      <td>0</td>\n",
              "      <td>1</td>\n",
              "      <td>0</td>\n",
              "      <td>0</td>\n",
              "      <td>0</td>\n",
              "      <td>0</td>\n",
              "      <td>1</td>\n",
              "      <td>1</td>\n",
              "    </tr>\n",
              "    <tr>\n",
              "      <th>3462</th>\n",
              "      <td>MI</td>\n",
              "      <td>20_137</td>\n",
              "      <td>20_168</td>\n",
              "      <td>20_168</td>\n",
              "      <td>1</td>\n",
              "      <td>Yo me quiero escapar también, dan paguita al l...</td>\n",
              "      <td>0</td>\n",
              "      <td>0</td>\n",
              "      <td>0</td>\n",
              "      <td>0</td>\n",
              "      <td>0</td>\n",
              "      <td>0</td>\n",
              "      <td>0</td>\n",
              "      <td>0</td>\n",
              "      <td>1</td>\n",
              "      <td>0</td>\n",
              "      <td>0</td>\n",
              "      <td>0</td>\n",
              "      <td>0</td>\n",
              "      <td>1</td>\n",
              "      <td>1</td>\n",
              "    </tr>\n",
              "  </tbody>\n",
              "</table>\n",
              "<p>3463 rows × 21 columns</p>\n",
              "</div>"
            ],
            "text/plain": [
              "     topic thread_id comment_id  ... intolerance  toxicity toxicity_level\n",
              "0       CR     0_000      0_002  ...           0         1              1\n",
              "1       CR     0_001      0_003  ...           0         1              1\n",
              "2       CR     0_002      0_004  ...           1         1              2\n",
              "3       CR     0_003      0_005  ...           0         1              1\n",
              "4       CR     0_004      0_006  ...           0         1              1\n",
              "...    ...       ...        ...  ...         ...       ...            ...\n",
              "3458    MI    20_134     20_164  ...           0         1              1\n",
              "3459    MI    20_006     20_165  ...           0         0              0\n",
              "3460    MI    20_135     20_166  ...           1         1              1\n",
              "3461    MI    20_136     20_167  ...           0         1              1\n",
              "3462    MI    20_137     20_168  ...           0         1              1\n",
              "\n",
              "[3463 rows x 21 columns]"
            ]
          },
          "metadata": {
            "tags": []
          },
          "execution_count": 6
        }
      ]
    },
    {
      "cell_type": "code",
      "metadata": {
        "colab": {
          "base_uri": "https://localhost:8080/",
          "height": 399
        },
        "id": "Er9umq1bdNWT",
        "outputId": "bc05d502-9fe6-4b8c-8d62-5cefec4b8d10"
      },
      "source": [
        "sample_data = df[[\"comment\", \"toxicity\",\"toxicity_level\"]]\n",
        "sample_data"
      ],
      "execution_count": 7,
      "outputs": [
        {
          "output_type": "execute_result",
          "data": {
            "text/html": [
              "<div>\n",
              "<style scoped>\n",
              "    .dataframe tbody tr th:only-of-type {\n",
              "        vertical-align: middle;\n",
              "    }\n",
              "\n",
              "    .dataframe tbody tr th {\n",
              "        vertical-align: top;\n",
              "    }\n",
              "\n",
              "    .dataframe thead th {\n",
              "        text-align: right;\n",
              "    }\n",
              "</style>\n",
              "<table border=\"1\" class=\"dataframe\">\n",
              "  <thead>\n",
              "    <tr style=\"text-align: right;\">\n",
              "      <th></th>\n",
              "      <th>comment</th>\n",
              "      <th>toxicity</th>\n",
              "      <th>toxicity_level</th>\n",
              "    </tr>\n",
              "  </thead>\n",
              "  <tbody>\n",
              "    <tr>\n",
              "      <th>0</th>\n",
              "      <td>Pensó: Zumo para restar.</td>\n",
              "      <td>1</td>\n",
              "      <td>1</td>\n",
              "    </tr>\n",
              "    <tr>\n",
              "      <th>1</th>\n",
              "      <td>Como les gusta el afeitado en seco a esta gente.</td>\n",
              "      <td>1</td>\n",
              "      <td>1</td>\n",
              "    </tr>\n",
              "    <tr>\n",
              "      <th>2</th>\n",
              "      <td>asi me gusta, que se maten entre ellos y en al...</td>\n",
              "      <td>1</td>\n",
              "      <td>2</td>\n",
              "    </tr>\n",
              "    <tr>\n",
              "      <th>3</th>\n",
              "      <td>Loss mas valientes, los que mejor cortan nuest...</td>\n",
              "      <td>1</td>\n",
              "      <td>1</td>\n",
              "    </tr>\n",
              "    <tr>\n",
              "      <th>4</th>\n",
              "      <td>Costumbres...</td>\n",
              "      <td>1</td>\n",
              "      <td>1</td>\n",
              "    </tr>\n",
              "    <tr>\n",
              "      <th>...</th>\n",
              "      <td>...</td>\n",
              "      <td>...</td>\n",
              "      <td>...</td>\n",
              "    </tr>\n",
              "    <tr>\n",
              "      <th>3458</th>\n",
              "      <td>Ya decía yo que veía menos moros</td>\n",
              "      <td>1</td>\n",
              "      <td>1</td>\n",
              "    </tr>\n",
              "    <tr>\n",
              "      <th>3459</th>\n",
              "      <td>+1. Como lo sabes...</td>\n",
              "      <td>0</td>\n",
              "      <td>0</td>\n",
              "    </tr>\n",
              "    <tr>\n",
              "      <th>3460</th>\n",
              "      <td>Seguirán cobrando paguitas en Marruecos,expoli...</td>\n",
              "      <td>1</td>\n",
              "      <td>1</td>\n",
              "    </tr>\n",
              "    <tr>\n",
              "      <th>3461</th>\n",
              "      <td>pobres, se arriesgan en pateras porque huyen d...</td>\n",
              "      <td>1</td>\n",
              "      <td>1</td>\n",
              "    </tr>\n",
              "    <tr>\n",
              "      <th>3462</th>\n",
              "      <td>Yo me quiero escapar también, dan paguita al l...</td>\n",
              "      <td>1</td>\n",
              "      <td>1</td>\n",
              "    </tr>\n",
              "  </tbody>\n",
              "</table>\n",
              "<p>3463 rows × 3 columns</p>\n",
              "</div>"
            ],
            "text/plain": [
              "                                                comment  ...  toxicity_level\n",
              "0                              Pensó: Zumo para restar.  ...               1\n",
              "1      Como les gusta el afeitado en seco a esta gente.  ...               1\n",
              "2     asi me gusta, que se maten entre ellos y en al...  ...               2\n",
              "3     Loss mas valientes, los que mejor cortan nuest...  ...               1\n",
              "4                                         Costumbres...  ...               1\n",
              "...                                                 ...  ...             ...\n",
              "3458                   Ya decía yo que veía menos moros  ...               1\n",
              "3459                               +1. Como lo sabes...  ...               0\n",
              "3460  Seguirán cobrando paguitas en Marruecos,expoli...  ...               1\n",
              "3461  pobres, se arriesgan en pateras porque huyen d...  ...               1\n",
              "3462  Yo me quiero escapar también, dan paguita al l...  ...               1\n",
              "\n",
              "[3463 rows x 3 columns]"
            ]
          },
          "metadata": {
            "tags": []
          },
          "execution_count": 7
        }
      ]
    },
    {
      "cell_type": "markdown",
      "metadata": {
        "id": "2oF8QrtaB3vx"
      },
      "source": [
        "#### Leer tweets y preprocesado"
      ]
    },
    {
      "cell_type": "code",
      "metadata": {
        "id": "lIhwu91ldSao"
      },
      "source": [
        "def tweet_preprocessing_not_tokenized(tweet):\n",
        "    tweet = tweet.lower() # Se empieza pasando todos los mensajes a minúsculas\n",
        "    tweet = re.sub(r\"http\\S+|www\\S+|https\\S+\", \"\" ,tweet , flags=re.MULTILINE) # Quitar URLs\n",
        "    tweet = re.sub(r\"\\@\\w+|\\#\", \"\", tweet) # Quitar @ y #\n",
        "    tweet = re.sub(r\"[\\U00010000-\\U0010ffff]|:\\)|:\\(|XD|xD|;\\)|:,\\(|:D|D:\", \"\", tweet) # Quitar emojis y emoticones\n",
        "    tweet = tweet.translate(str.maketrans('', '', string.punctuation)) # Quitar signos de puntuación\n",
        "    tokenized_tweets = word_tokenize(tweet)\n",
        "    filtered_tweets = [word for word in tokenized_tweets if not word in set(stopwords.words('spanish'))] # Quitar stopwords y filtrar\n",
        "    \n",
        "    stemming = PorterStemmer() # Inicializamos PorterStemmer para obtener la raíz de cada una de las palabras\n",
        "    stemmed_tweets = [stemming.stem(word) for word in filtered_tweets]\n",
        "    lemmatization = WordNetLemmatizer() # Inicializamos el Lemmatizer para obtener los lemas de las palabras\n",
        "    lemma_tweets = [lemmatization.lemmatize(word, pos='a') for word in stemmed_tweets] \n",
        "    return \" \".join(lemma_tweets) # NO TOKENIZADO\n",
        "\n",
        "preprocessing = lambda x: tweet_preprocessing_not_tokenized(x)"
      ],
      "execution_count": 9,
      "outputs": []
    },
    {
      "cell_type": "code",
      "metadata": {
        "id": "5OTj3jNIdVeE"
      },
      "source": [
        "sample_data['comment'] = pd.DataFrame(sample_data[\"comment\"].apply(preprocessing))"
      ],
      "execution_count": 10,
      "outputs": []
    },
    {
      "cell_type": "markdown",
      "metadata": {
        "id": "Kij4FA8xFIfy"
      },
      "source": [
        "#### Variable `Toxicity`"
      ]
    },
    {
      "cell_type": "markdown",
      "metadata": {
        "id": "pSYIE6z9B_ti"
      },
      "source": [
        "#### Dividir el corpus en conjunto de entrenamiento y test"
      ]
    },
    {
      "cell_type": "code",
      "metadata": {
        "id": "AOdhQglMdcKq"
      },
      "source": [
        "train_X, test_X, train_Y, test_Y = train_test_split(sample_data['comment'], sample_data['toxicity'], test_size=0.3)"
      ],
      "execution_count": 42,
      "outputs": []
    },
    {
      "cell_type": "markdown",
      "metadata": {
        "id": "-0EIMRJBC5eu"
      },
      "source": [
        "### Extracción de características"
      ]
    },
    {
      "cell_type": "markdown",
      "metadata": {
        "id": "tmAX3T8OC-GK"
      },
      "source": [
        "#### Term Frequency - Inverse Document Frequency (TF-IDF)"
      ]
    },
    {
      "cell_type": "code",
      "metadata": {
        "id": "5jaOxu8Ti467"
      },
      "source": [
        "tfidf_vect = TfidfVectorizer()\n",
        "tfidf_vect.fit(sample_data['comment'])\n",
        "train_X_Tfidf = tfidf_vect.transform(train_X)\n",
        "test_X_Tfidf = tfidf_vect.transform(test_X)"
      ],
      "execution_count": 43,
      "outputs": []
    },
    {
      "cell_type": "markdown",
      "metadata": {
        "id": "GZyy4MFCDjdn"
      },
      "source": [
        "#### Support Vector Machine (SVM)"
      ]
    },
    {
      "cell_type": "code",
      "metadata": {
        "colab": {
          "base_uri": "https://localhost:8080/"
        },
        "id": "sNXcGUe-jYzO",
        "outputId": "5315eeb8-33d4-4fba-99c2-079e9000618e"
      },
      "source": [
        "svm_clf = SVC(C=1.0, kernel='linear', degree=3, gamma='auto')\n",
        "svm_clf.fit(train_X_Tfidf,train_Y)\n",
        "\n",
        "y_train_pred = svm_clf.predict(train_X_Tfidf)\n",
        "y_test_pred = svm_clf.predict(test_X_Tfidf)\n",
        "\n",
        "# Training set performance\n",
        "svm_train_accuracy = accuracy_score(train_Y, y_train_pred) # Calculate Accuracy\n",
        "svm_train_f1 = f1_score(train_Y, y_train_pred, average='weighted') # Calculate F1-score\n",
        "\n",
        "# Test set performance\n",
        "svm_test_accuracy = accuracy_score(test_Y, y_test_pred) # Calculate Accuracy\n",
        "svm_test_f1 = f1_score(test_Y, y_test_pred, average='weighted') # Calculate F1-score\n",
        "\n",
        "print('Model performance for Training set')\n",
        "print('- Accuracy: %s' % svm_train_accuracy)\n",
        "print('- F1 score: %s' % svm_train_f1)\n",
        "print('----------------------------------')\n",
        "print('Model performance for Test set')\n",
        "print('- Accuracy: %s' % svm_test_accuracy)\n",
        "print('- F1 score: %s' % svm_test_f1)"
      ],
      "execution_count": 44,
      "outputs": [
        {
          "output_type": "stream",
          "text": [
            "Model performance for Training set\n",
            "- Accuracy: 0.9401815181518152\n",
            "- F1 score: 0.9386288184116761\n",
            "----------------------------------\n",
            "Model performance for Test set\n",
            "- Accuracy: 0.7382098171318575\n",
            "- F1 score: 0.7055167358706487\n"
          ],
          "name": "stdout"
        }
      ]
    },
    {
      "cell_type": "markdown",
      "metadata": {
        "id": "_58bAoGmEkdG"
      },
      "source": [
        "#### Decision Tree"
      ]
    },
    {
      "cell_type": "code",
      "metadata": {
        "colab": {
          "base_uri": "https://localhost:8080/"
        },
        "id": "OsZezqfakXhw",
        "outputId": "0f8800a9-7515-43f4-f516-531aa4d23ec0"
      },
      "source": [
        "tree_clf = DecisionTreeClassifier(max_depth=4)\n",
        "tree_clf.fit(train_X_Tfidf,train_Y)\n",
        "\n",
        "y_train_pred = tree_clf.predict(train_X_Tfidf)\n",
        "y_test_pred = tree_clf.predict(test_X_Tfidf)\n",
        "\n",
        "# Training set performance\n",
        "dt_train_accuracy = accuracy_score(train_Y, y_train_pred) # Calculate Accuracy\n",
        "dt_train_f1 = f1_score(train_Y, y_train_pred, average='weighted') # Calculate F1-score\n",
        "\n",
        "# Test set performance\n",
        "dt_test_accuracy = accuracy_score(test_Y, y_test_pred) # Calculate Accuracy\n",
        "dt_test_f1 = f1_score(test_Y, y_test_pred, average='weighted') # Calculate F1-score\n",
        "\n",
        "print('Model performance for Training set')\n",
        "print('- Accuracy: %s' % dt_train_accuracy)\n",
        "print('- F1 score: %s' % dt_train_f1)\n",
        "print('----------------------------------')\n",
        "print('Model performance for Test set')\n",
        "print('- Accuracy: %s' % dt_test_accuracy)\n",
        "print('- F1 score: %s' % dt_test_f1)"
      ],
      "execution_count": 45,
      "outputs": [
        {
          "output_type": "stream",
          "text": [
            "Model performance for Training set\n",
            "- Accuracy: 0.7132838283828383\n",
            "- F1 score: 0.6309166028757622\n",
            "----------------------------------\n",
            "Model performance for Test set\n",
            "- Accuracy: 0.6948989412897016\n",
            "- F1 score: 0.6135187089023256\n"
          ],
          "name": "stdout"
        }
      ]
    },
    {
      "cell_type": "markdown",
      "metadata": {
        "id": "A0ECO0A7EmrB"
      },
      "source": [
        "#### Random Forest"
      ]
    },
    {
      "cell_type": "code",
      "metadata": {
        "colab": {
          "base_uri": "https://localhost:8080/"
        },
        "id": "cA0FgQl8lgej",
        "outputId": "ce7689ca-a4e5-4d1b-cc9e-07ef247fc6b7"
      },
      "source": [
        "rf = RandomForestClassifier(n_estimators=10)\n",
        "rf.fit(train_X_Tfidf, train_Y)\n",
        "\n",
        "y_train_pred = rf.predict(train_X_Tfidf)\n",
        "y_test_pred = rf.predict(test_X_Tfidf)\n",
        "\n",
        "# Training set performance\n",
        "rf_train_accuracy = accuracy_score(train_Y, y_train_pred) # Calculate Accuracy\n",
        "rf_train_f1 = f1_score(train_Y, y_train_pred, average='weighted') # Calculate F1-score\n",
        "\n",
        "# Test set performance\n",
        "rf_test_accuracy = accuracy_score(test_Y, y_test_pred) # Calculate Accuracy\n",
        "rf_test_f1 = f1_score(test_Y, y_test_pred, average='weighted') # Calculate F1-score\n",
        "\n",
        "print('Model performance for Training set')\n",
        "print('- Accuracy: %s' % rf_train_accuracy)\n",
        "print('- F1 score: %s' % rf_train_f1)\n",
        "print('----------------------------------')\n",
        "print('Model performance for Test set')\n",
        "print('- Accuracy: %s' % rf_test_accuracy)\n",
        "print('- F1 score: %s' % rf_test_f1)"
      ],
      "execution_count": 34,
      "outputs": [
        {
          "output_type": "stream",
          "text": [
            "Model performance for Training set\n",
            "- Accuracy: 0.9727722772277227\n",
            "- F1 score: 0.9724511354696957\n",
            "----------------------------------\n",
            "Model performance for Test set\n",
            "- Accuracy: 0.7276227141482194\n",
            "- F1 score: 0.6847379428336633\n"
          ],
          "name": "stdout"
        }
      ]
    },
    {
      "cell_type": "markdown",
      "metadata": {
        "id": "XHIEWuDDEon8"
      },
      "source": [
        "#### Perceptrón Multicapa"
      ]
    },
    {
      "cell_type": "code",
      "metadata": {
        "colab": {
          "base_uri": "https://localhost:8080/"
        },
        "id": "wrw169svmUi_",
        "outputId": "010c248e-de08-4b0f-f463-c5aae53e849d"
      },
      "source": [
        "mlp = MLPClassifier(alpha=1, max_iter=1000)\n",
        "mlp.fit(train_X_Tfidf, train_Y)\n",
        "\n",
        "y_train_pred = mlp.predict(train_X_Tfidf)\n",
        "y_test_pred = mlp.predict(test_X_Tfidf)\n",
        "\n",
        "# Training set performance\n",
        "mlp_train_accuracy = accuracy_score(train_Y, y_train_pred) # Calculate Accuracy\n",
        "mlp_train_f1 = f1_score(train_Y, y_train_pred, average='weighted') # Calculate F1-score\n",
        "\n",
        "# Test set performance\n",
        "mlp_test_accuracy = accuracy_score(test_Y, y_test_pred) # Calculate Accuracy\n",
        "mlp_test_f1 = f1_score(test_Y, y_test_pred, average='weighted') # Calculate F1-score\n",
        "\n",
        "print('Model performance for Training set')\n",
        "print('- Accuracy: %s' % mlp_train_accuracy)\n",
        "print('- F1 score: %s' % mlp_train_f1)\n",
        "print('----------------------------------')\n",
        "print('Model performance for Test set')\n",
        "print('- Accuracy: %s' % mlp_test_accuracy)\n",
        "print('- F1 score: %s' % mlp_test_f1)"
      ],
      "execution_count": 35,
      "outputs": [
        {
          "output_type": "stream",
          "text": [
            "Model performance for Training set\n",
            "- Accuracy: 0.7735148514851485\n",
            "- F1 score: 0.730719729604149\n",
            "----------------------------------\n",
            "Model performance for Test set\n",
            "- Accuracy: 0.6920115495668913\n",
            "- F1 score: 0.6041002053158424\n"
          ],
          "name": "stdout"
        }
      ]
    },
    {
      "cell_type": "markdown",
      "metadata": {
        "id": "rpkziaGyE0xn"
      },
      "source": [
        "#### Stacking model"
      ]
    },
    {
      "cell_type": "code",
      "metadata": {
        "colab": {
          "base_uri": "https://localhost:8080/"
        },
        "id": "FA7IPYGqnF1o",
        "outputId": "d2219e0a-fd51-4a30-8e8c-33b1b6e57515"
      },
      "source": [
        "estimator_list = [\n",
        "    ('svm_clf',svm_clf),\n",
        "    ('tree_clf',tree_clf),\n",
        "    ('rf',rf),\n",
        "    ('mlp',mlp) ]\n",
        "\n",
        "\n",
        "stack_model = StackingClassifier(\n",
        "    estimators=estimator_list, final_estimator=LogisticRegression()\n",
        ")\n",
        "\n",
        "\n",
        "stack_model.fit(train_X_Tfidf, train_Y)\n",
        "\n",
        "\n",
        "y_train_pred = stack_model.predict(train_X_Tfidf)\n",
        "y_test_pred = stack_model.predict(test_X_Tfidf)\n",
        "\n",
        "# Training set model performance\n",
        "stack_model_train_accuracy = accuracy_score(train_Y, y_train_pred) # Calculate Accuracy\n",
        "stack_model_train_f1 = f1_score(train_Y, y_train_pred, average='weighted') # Calculate F1-score\n",
        "\n",
        "# Test set model performance\n",
        "stack_model_test_accuracy = accuracy_score(test_Y, y_test_pred) # Calculate Accuracy\n",
        "stack_model_test_f1 = f1_score(test_Y, y_test_pred, average='weighted') # Calculate F1-score\n",
        "\n",
        "print('Model performance for Training set')\n",
        "print('- Accuracy: %s' % stack_model_train_accuracy)\n",
        "print('- F1 score: %s' % stack_model_train_f1)\n",
        "print('----------------------------------')\n",
        "print('Model performance for Test set')\n",
        "print('- Accuracy: %s' % stack_model_test_accuracy)\n",
        "print('- F1 score: %s' % stack_model_test_f1)"
      ],
      "execution_count": 37,
      "outputs": [
        {
          "output_type": "stream",
          "text": [
            "Model performance for Training set\n",
            "- Accuracy: 0.9698844884488449\n",
            "- F1 score: 0.969570201181669\n",
            "----------------------------------\n",
            "Model performance for Test set\n",
            "- Accuracy: 0.7439846005774784\n",
            "- F1 score: 0.7131512657393546\n"
          ],
          "name": "stdout"
        }
      ]
    },
    {
      "cell_type": "code",
      "metadata": {
        "id": "Lk2czgL5oq5-"
      },
      "source": [
        "acc_train_list = {\n",
        "'svm_rbf': svm_train_accuracy,\n",
        "'tree_clf': dt_train_accuracy,\n",
        "'rf': rf_train_accuracy,\n",
        "'mlp': mlp_train_accuracy,\n",
        "'stack_model': stack_model_train_accuracy}\n",
        "\n",
        "\n",
        "f1_train_list = {\n",
        "'svm_rbf': svm_train_f1,\n",
        "'tree_clf': dt_train_f1,\n",
        "'rf': rf_train_f1,\n",
        "'mlp': mlp_train_f1,\n",
        "'stack_model': stack_model_train_f1}"
      ],
      "execution_count": 44,
      "outputs": []
    },
    {
      "cell_type": "code",
      "metadata": {
        "id": "ZuYLIggepMgs"
      },
      "source": [
        "acc_test_list = {\n",
        "'svm_rbf': svm_test_accuracy,\n",
        "'tree_clf': dt_test_accuracy,\n",
        "'rf': rf_test_accuracy,\n",
        "'mlp': mlp_test_accuracy,\n",
        "'stack_model': stack_model_test_accuracy}\n",
        "\n",
        "\n",
        "f1_test_list = {\n",
        "'svm_rbf': svm_test_f1,\n",
        "'tree_clf': dt_test_f1,\n",
        "'rf': rf_test_f1,\n",
        "'mlp': mlp_test_f1,\n",
        "'stack_model': stack_model_test_f1}"
      ],
      "execution_count": 46,
      "outputs": []
    },
    {
      "cell_type": "markdown",
      "metadata": {
        "id": "h4S6GbkBFAX0"
      },
      "source": [
        "#### Resultados para Train y Test de la variable `Toxicity`"
      ]
    },
    {
      "cell_type": "markdown",
      "metadata": {
        "id": "57jMjvFkW6Od"
      },
      "source": [
        "##### Train"
      ]
    },
    {
      "cell_type": "code",
      "metadata": {
        "colab": {
          "base_uri": "https://localhost:8080/",
          "height": 194
        },
        "id": "Ejq5R4fQouKp",
        "outputId": "eff080f6-55f0-414f-d36d-6f100203e85b"
      },
      "source": [
        "acc_df = pd.DataFrame.from_dict(acc_train_list, orient='index', columns=['Accuracy'])\n",
        "f1_df = pd.DataFrame.from_dict(f1_train_list, orient='index', columns=['F1'])\n",
        "df = pd.concat([acc_df, f1_df], axis=1)\n",
        "df"
      ],
      "execution_count": 45,
      "outputs": [
        {
          "output_type": "execute_result",
          "data": {
            "text/html": [
              "<div>\n",
              "<style scoped>\n",
              "    .dataframe tbody tr th:only-of-type {\n",
              "        vertical-align: middle;\n",
              "    }\n",
              "\n",
              "    .dataframe tbody tr th {\n",
              "        vertical-align: top;\n",
              "    }\n",
              "\n",
              "    .dataframe thead th {\n",
              "        text-align: right;\n",
              "    }\n",
              "</style>\n",
              "<table border=\"1\" class=\"dataframe\">\n",
              "  <thead>\n",
              "    <tr style=\"text-align: right;\">\n",
              "      <th></th>\n",
              "      <th>Accuracy</th>\n",
              "      <th>F1</th>\n",
              "    </tr>\n",
              "  </thead>\n",
              "  <tbody>\n",
              "    <tr>\n",
              "      <th>svm_rbf</th>\n",
              "      <td>0.933993</td>\n",
              "      <td>0.932093</td>\n",
              "    </tr>\n",
              "    <tr>\n",
              "      <th>tree_clf</th>\n",
              "      <td>0.711634</td>\n",
              "      <td>0.626028</td>\n",
              "    </tr>\n",
              "    <tr>\n",
              "      <th>rf</th>\n",
              "      <td>0.972772</td>\n",
              "      <td>0.972451</td>\n",
              "    </tr>\n",
              "    <tr>\n",
              "      <th>mlp</th>\n",
              "      <td>0.773515</td>\n",
              "      <td>0.730720</td>\n",
              "    </tr>\n",
              "    <tr>\n",
              "      <th>stack_model</th>\n",
              "      <td>0.969884</td>\n",
              "      <td>0.969570</td>\n",
              "    </tr>\n",
              "  </tbody>\n",
              "</table>\n",
              "</div>"
            ],
            "text/plain": [
              "             Accuracy        F1\n",
              "svm_rbf      0.933993  0.932093\n",
              "tree_clf     0.711634  0.626028\n",
              "rf           0.972772  0.972451\n",
              "mlp          0.773515  0.730720\n",
              "stack_model  0.969884  0.969570"
            ]
          },
          "metadata": {
            "tags": []
          },
          "execution_count": 45
        }
      ]
    },
    {
      "cell_type": "markdown",
      "metadata": {
        "id": "YB50mia1W71P"
      },
      "source": [
        "##### Test"
      ]
    },
    {
      "cell_type": "code",
      "metadata": {
        "colab": {
          "base_uri": "https://localhost:8080/",
          "height": 194
        },
        "id": "MUHmH4JspKq0",
        "outputId": "63eea775-84e9-4bd4-c3f4-62bd37e8d1fe"
      },
      "source": [
        "acc_df_test = pd.DataFrame.from_dict(acc_test_list, orient='index', columns=['Accuracy'])\n",
        "f1_df_test = pd.DataFrame.from_dict(f1_test_list, orient='index', columns=['F1'])\n",
        "df_test = pd.concat([acc_df_test, f1_df_test], axis=1)\n",
        "df_test"
      ],
      "execution_count": 48,
      "outputs": [
        {
          "output_type": "execute_result",
          "data": {
            "text/html": [
              "<div>\n",
              "<style scoped>\n",
              "    .dataframe tbody tr th:only-of-type {\n",
              "        vertical-align: middle;\n",
              "    }\n",
              "\n",
              "    .dataframe tbody tr th {\n",
              "        vertical-align: top;\n",
              "    }\n",
              "\n",
              "    .dataframe thead th {\n",
              "        text-align: right;\n",
              "    }\n",
              "</style>\n",
              "<table border=\"1\" class=\"dataframe\">\n",
              "  <thead>\n",
              "    <tr style=\"text-align: right;\">\n",
              "      <th></th>\n",
              "      <th>Accuracy</th>\n",
              "      <th>F1</th>\n",
              "    </tr>\n",
              "  </thead>\n",
              "  <tbody>\n",
              "    <tr>\n",
              "      <th>svm_rbf</th>\n",
              "      <td>0.735322</td>\n",
              "      <td>0.697411</td>\n",
              "    </tr>\n",
              "    <tr>\n",
              "      <th>tree_clf</th>\n",
              "      <td>0.694899</td>\n",
              "      <td>0.612963</td>\n",
              "    </tr>\n",
              "    <tr>\n",
              "      <th>rf</th>\n",
              "      <td>0.727623</td>\n",
              "      <td>0.684738</td>\n",
              "    </tr>\n",
              "    <tr>\n",
              "      <th>mlp</th>\n",
              "      <td>0.692012</td>\n",
              "      <td>0.604100</td>\n",
              "    </tr>\n",
              "    <tr>\n",
              "      <th>stack_model</th>\n",
              "      <td>0.743985</td>\n",
              "      <td>0.713151</td>\n",
              "    </tr>\n",
              "  </tbody>\n",
              "</table>\n",
              "</div>"
            ],
            "text/plain": [
              "             Accuracy        F1\n",
              "svm_rbf      0.735322  0.697411\n",
              "tree_clf     0.694899  0.612963\n",
              "rf           0.727623  0.684738\n",
              "mlp          0.692012  0.604100\n",
              "stack_model  0.743985  0.713151"
            ]
          },
          "metadata": {
            "tags": []
          },
          "execution_count": 48
        }
      ]
    },
    {
      "cell_type": "markdown",
      "metadata": {
        "id": "b7anIBhOFVNm"
      },
      "source": [
        "#### Variable `Toxicity_level`"
      ]
    },
    {
      "cell_type": "markdown",
      "metadata": {
        "id": "az1_nR5bFh2N"
      },
      "source": [
        "#### Dividir el corpus en conjunto de entrenamiento y test"
      ]
    },
    {
      "cell_type": "code",
      "metadata": {
        "id": "-dcEIbtpFkCQ"
      },
      "source": [
        "train_X_, test_X_, train_Y_, test_Y_ = train_test_split(sample_data['comment'], sample_data['toxicity_level'], test_size=0.3)"
      ],
      "execution_count": 12,
      "outputs": []
    },
    {
      "cell_type": "markdown",
      "metadata": {
        "id": "ipxWpwvBKBNT"
      },
      "source": [
        "### Extracción de características"
      ]
    },
    {
      "cell_type": "markdown",
      "metadata": {
        "id": "0_5piZdgKFHa"
      },
      "source": [
        "#### Term Frequency - Inverse Document Frequency (TF-IDF)"
      ]
    },
    {
      "cell_type": "code",
      "metadata": {
        "id": "HZFhAyhzKFeb"
      },
      "source": [
        "tfidf_vect_levels = TfidfVectorizer()\n",
        "tfidf_vect_levels.fit(sample_data['comment'])\n",
        "train_X_Tfidf_ = tfidf_vect_levels.transform(train_X_)\n",
        "test_X_Tfidf_ = tfidf_vect_levels.transform(test_X_)"
      ],
      "execution_count": 13,
      "outputs": []
    },
    {
      "cell_type": "markdown",
      "metadata": {
        "id": "nxWwwO7rKajN"
      },
      "source": [
        "#### Support Vector Machine (SVM)"
      ]
    },
    {
      "cell_type": "code",
      "metadata": {
        "colab": {
          "base_uri": "https://localhost:8080/"
        },
        "id": "JfGXmGz7KVq6",
        "outputId": "1d0cf6cc-3208-4c21-8b08-7b49bd0c5d54"
      },
      "source": [
        "svm_clf_levels = SVC(C=1.0, kernel='linear', degree=3, gamma='auto')\n",
        "svm_clf_levels.fit(train_X_Tfidf_,train_Y_)\n",
        "\n",
        "y_train_pred_levels = svm_clf_levels.predict(train_X_Tfidf_)\n",
        "y_test_pred_levels = svm_clf_levels.predict(test_X_Tfidf_)\n",
        "\n",
        "# Training set performance\n",
        "svm_train_accuracy_levels = accuracy_score(train_Y_, y_train_pred_levels) # Calculate Accuracy\n",
        "svm_train_f1_levels = f1_score(train_Y_, y_train_pred_levels, average='weighted') # Calculate F1-score\n",
        "\n",
        "# Test set performance\n",
        "svm_test_accuracy_levels = accuracy_score(test_Y_, y_test_pred_levels) # Calculate Accuracy\n",
        "svm_test_f1_levels = f1_score(test_Y_, y_test_pred_levels, average='weighted') # Calculate F1-score\n",
        "\n",
        "print('Model performance for Training set')\n",
        "print('- Accuracy: %s' % svm_train_accuracy_levels)\n",
        "print('- F1 score: %s' % svm_train_f1_levels)\n",
        "print('----------------------------------')\n",
        "print('Model performance for Test set')\n",
        "print('- Accuracy: %s' % svm_test_accuracy_levels)\n",
        "print('- F1 score: %s' % svm_test_f1_levels)"
      ],
      "execution_count": 14,
      "outputs": [
        {
          "output_type": "stream",
          "text": [
            "Model performance for Training set\n",
            "- Accuracy: 0.8708745874587459\n",
            "- F1 score: 0.859313198574235\n",
            "----------------------------------\n",
            "Model performance for Test set\n",
            "- Accuracy: 0.714148219441771\n",
            "- F1 score: 0.6310829562295333\n"
          ],
          "name": "stdout"
        }
      ]
    },
    {
      "cell_type": "markdown",
      "metadata": {
        "id": "ju-X0icCMhbK"
      },
      "source": [
        "#### Decision Tree"
      ]
    },
    {
      "cell_type": "code",
      "metadata": {
        "colab": {
          "base_uri": "https://localhost:8080/"
        },
        "id": "oXd3V57sMnll",
        "outputId": "c3e2715a-69cf-45ef-e0b9-f0fd56c0dae6"
      },
      "source": [
        "tree_clf_levels = DecisionTreeClassifier(max_depth=4)\n",
        "tree_clf_levels.fit(train_X_Tfidf_,train_Y_)\n",
        "\n",
        "y_train_pred_levels = tree_clf_levels.predict(train_X_Tfidf_)\n",
        "y_test_pred_levels = tree_clf_levels.predict(test_X_Tfidf_)\n",
        "\n",
        "# Training set performance\n",
        "dt_train_accuracy_levels = accuracy_score(train_Y_, y_train_pred_levels) # Calculate Accuracy\n",
        "dt_train_f1_levels = f1_score(train_Y_, y_train_pred_levels, average='weighted') # Calculate F1-score\n",
        "\n",
        "# Test set performance\n",
        "dt_test_accuracy_levels = accuracy_score(test_Y_, y_test_pred_levels) # Calculate Accuracy\n",
        "dt_test_f1_levels = f1_score(test_Y_, y_test_pred_levels, average='weighted') # Calculate F1-score\n",
        "\n",
        "print('Model performance for Training set')\n",
        "print('- Accuracy: %s' % dt_train_accuracy_levels)\n",
        "print('- F1 score: %s' % dt_train_f1_levels)\n",
        "print('----------------------------------')\n",
        "print('Model performance for Test set')\n",
        "print('- Accuracy: %s' % dt_test_accuracy_levels)\n",
        "print('- F1 score: %s' % dt_test_f1_levels)"
      ],
      "execution_count": 15,
      "outputs": [
        {
          "output_type": "stream",
          "text": [
            "Model performance for Training set\n",
            "- Accuracy: 0.6905940594059405\n",
            "- F1 score: 0.5981956209121226\n",
            "----------------------------------\n",
            "Model performance for Test set\n",
            "- Accuracy: 0.697786333012512\n",
            "- F1 score: 0.6028262484894534\n"
          ],
          "name": "stdout"
        }
      ]
    },
    {
      "cell_type": "markdown",
      "metadata": {
        "id": "06JFoLKeN0Ha"
      },
      "source": [
        "#### Random Forest"
      ]
    },
    {
      "cell_type": "code",
      "metadata": {
        "colab": {
          "base_uri": "https://localhost:8080/"
        },
        "id": "4wCzJlWyN0ez",
        "outputId": "5f13493b-4d2d-4042-f144-fa31a2251733"
      },
      "source": [
        "rf_levels = RandomForestClassifier(n_estimators=10)\n",
        "rf_levels.fit(train_X_Tfidf_, train_Y_)\n",
        "\n",
        "y_train_pred_levels = rf_levels.predict(train_X_Tfidf_)\n",
        "y_test_pred_levels = rf_levels.predict(test_X_Tfidf_)\n",
        "\n",
        "# Training set performance\n",
        "rf_train_accuracy_levels = accuracy_score(train_Y_, y_train_pred_levels) # Calculate Accuracy\n",
        "rf_train_f1_levels = f1_score(train_Y_, y_train_pred_levels, average='weighted') # Calculate F1-score\n",
        "\n",
        "# Test set performance\n",
        "rf_test_accuracy_levels = accuracy_score(test_Y_, y_test_pred_levels) # Calculate Accuracy\n",
        "rf_test_f1_levels = f1_score(test_Y_, y_test_pred_levels, average='weighted') # Calculate F1-score\n",
        "\n",
        "print('Model performance for Training set')\n",
        "print('- Accuracy: %s' % rf_train_accuracy_levels)\n",
        "print('- F1 score: %s' % rf_train_f1_levels)\n",
        "print('----------------------------------')\n",
        "print('Model performance for Test set')\n",
        "print('- Accuracy: %s' % rf_test_accuracy_levels)\n",
        "print('- F1 score: %s' % rf_test_f1_levels)"
      ],
      "execution_count": 16,
      "outputs": [
        {
          "output_type": "stream",
          "text": [
            "Model performance for Training set\n",
            "- Accuracy: 0.9608085808580858\n",
            "- F1 score: 0.9601197364669745\n",
            "----------------------------------\n",
            "Model performance for Test set\n",
            "- Accuracy: 0.7122232916265641\n",
            "- F1 score: 0.6395576033536343\n"
          ],
          "name": "stdout"
        }
      ]
    },
    {
      "cell_type": "markdown",
      "metadata": {
        "id": "C0pq9a3LQW-d"
      },
      "source": [
        "#### Perceptrón Multicapa"
      ]
    },
    {
      "cell_type": "code",
      "metadata": {
        "colab": {
          "base_uri": "https://localhost:8080/"
        },
        "id": "aaXKvUhsQZdP",
        "outputId": "99f1660d-ee66-4ab0-9d82-1bf3010252ce"
      },
      "source": [
        "mlp_levels = MLPClassifier(alpha=1, max_iter=1000)\n",
        "mlp_levels.fit(train_X_Tfidf_, train_Y_)\n",
        "\n",
        "y_train_pred_levels = mlp_levels.predict(train_X_Tfidf_)\n",
        "y_test_pred_levels = mlp_levels.predict(test_X_Tfidf_)\n",
        "\n",
        "# Training set performance\n",
        "mlp_train_accuracy_levels = accuracy_score(train_Y_, y_train_pred_levels) # Calculate Accuracy\n",
        "mlp_train_f1_levels = f1_score(train_Y_, y_train_pred_levels, average='weighted') # Calculate F1-score\n",
        "\n",
        "# Test set performance\n",
        "mlp_test_accuracy_levels = accuracy_score(test_Y_, y_test_pred_levels) # Calculate Accuracy\n",
        "mlp_test_f1_levels = f1_score(test_Y_, y_test_pred_levels, average='weighted') # Calculate F1-score\n",
        "\n",
        "print('Model performance for Training set')\n",
        "print('- Accuracy: %s' % mlp_train_accuracy_levels)\n",
        "print('- F1 score: %s' % mlp_train_f1_levels)\n",
        "print('----------------------------------')\n",
        "print('Model performance for Test set')\n",
        "print('- Accuracy: %s' % mlp_test_accuracy_levels)\n",
        "print('- F1 score: %s' % mlp_test_f1_levels)"
      ],
      "execution_count": 17,
      "outputs": [
        {
          "output_type": "stream",
          "text": [
            "Model performance for Training set\n",
            "- Accuracy: 0.7747524752475248\n",
            "- F1 score: 0.7177894817659128\n",
            "----------------------------------\n",
            "Model performance for Test set\n",
            "- Accuracy: 0.7160731472569779\n",
            "- F1 score: 0.6306244692294627\n"
          ],
          "name": "stdout"
        }
      ]
    },
    {
      "cell_type": "markdown",
      "metadata": {
        "id": "D-_-CtABSa0k"
      },
      "source": [
        "#### Stacking model"
      ]
    },
    {
      "cell_type": "code",
      "metadata": {
        "colab": {
          "base_uri": "https://localhost:8080/"
        },
        "id": "TbDww3v3SbRD",
        "outputId": "1469bb5a-f346-4683-8d53-6d0a7bce1dd6"
      },
      "source": [
        "estimator_list_levels = [\n",
        "    ('svm_clf_levels',svm_clf_levels),\n",
        "    ('tree_clf_levels',tree_clf_levels),\n",
        "    ('rf_levels',rf_levels),\n",
        "    ('mlp_levels',mlp_levels) ]\n",
        "\n",
        "\n",
        "stack_model_levels = StackingClassifier(\n",
        "    estimators=estimator_list_levels, final_estimator=LogisticRegression()\n",
        ")\n",
        "\n",
        "\n",
        "stack_model_levels.fit(train_X_Tfidf_, train_Y_)\n",
        "\n",
        "\n",
        "y_train_pred_levels = stack_model_levels.predict(train_X_Tfidf_)\n",
        "y_test_pred_levels = stack_model_levels.predict(test_X_Tfidf_)\n",
        "\n",
        "# Training set model performance\n",
        "stack_model_train_accuracy_levels = accuracy_score(train_Y_, y_train_pred_levels) # Calculate Accuracy\n",
        "stack_model_train_f1_levels = f1_score(train_Y_, y_train_pred_levels, average='weighted') # Calculate F1-score\n",
        "\n",
        "# Test set model performance\n",
        "stack_model_test_accuracy_levels = accuracy_score(test_Y_, y_test_pred_levels) # Calculate Accuracy\n",
        "stack_model_test_f1_levels = f1_score(test_Y_, y_test_pred_levels, average='weighted') # Calculate F1-score\n",
        "\n",
        "print('Model performance for Training set')\n",
        "print('- Accuracy: %s' % stack_model_train_accuracy_levels)\n",
        "print('- F1 score: %s' % stack_model_train_f1_levels)\n",
        "print('----------------------------------')\n",
        "print('Model performance for Test set')\n",
        "print('- Accuracy: %s' % stack_model_test_accuracy_levels)\n",
        "print('- F1 score: %s' % stack_model_test_f1_levels)"
      ],
      "execution_count": 18,
      "outputs": [
        {
          "output_type": "stream",
          "text": [
            "Model performance for Training set\n",
            "- Accuracy: 0.7821782178217822\n",
            "- F1 score: 0.742279775643481\n",
            "----------------------------------\n",
            "Model performance for Test set\n",
            "- Accuracy: 0.7218479307025987\n",
            "- F1 score: 0.6512306941584399\n"
          ],
          "name": "stdout"
        }
      ]
    },
    {
      "cell_type": "code",
      "metadata": {
        "id": "CSRkoPI1U8Go"
      },
      "source": [
        "acc_train_list_levels = {\n",
        "'svm_rbf': svm_train_accuracy_levels,\n",
        "'tree_clf': dt_train_accuracy_levels,\n",
        "'rf': rf_train_accuracy_levels,\n",
        "'mlp': mlp_train_accuracy_levels,\n",
        "'stack_model': stack_model_train_accuracy_levels}\n",
        "\n",
        "\n",
        "f1_train_list_levels = {\n",
        "'svm_rbf': svm_train_f1_levels,\n",
        "'tree_clf': dt_train_f1_levels,\n",
        "'rf': rf_train_f1_levels,\n",
        "'mlp': mlp_train_f1_levels,\n",
        "'stack_model': stack_model_train_f1_levels}"
      ],
      "execution_count": 19,
      "outputs": []
    },
    {
      "cell_type": "code",
      "metadata": {
        "id": "jBqhROVqVCyY"
      },
      "source": [
        "acc_test_list_levels = {\n",
        "'svm_rbf': svm_test_accuracy_levels,\n",
        "'tree_clf': dt_test_accuracy_levels,\n",
        "'rf': rf_test_accuracy_levels,\n",
        "'mlp': mlp_test_accuracy_levels,\n",
        "'stack_model': stack_model_test_accuracy_levels}\n",
        "\n",
        "\n",
        "f1_test_list_levels = {\n",
        "'svm_rbf': svm_test_f1_levels,\n",
        "'tree_clf': dt_test_f1_levels,\n",
        "'rf': rf_test_f1_levels,\n",
        "'mlp': mlp_test_f1_levels,\n",
        "'stack_model': stack_model_test_f1_levels}"
      ],
      "execution_count": 20,
      "outputs": []
    },
    {
      "cell_type": "markdown",
      "metadata": {
        "id": "lE0PJKq-V210"
      },
      "source": [
        "#### Resultados para Train y Test de la variable `Toxicity_level`"
      ]
    },
    {
      "cell_type": "markdown",
      "metadata": {
        "id": "rzfxSglbW_gx"
      },
      "source": [
        "##### Train"
      ]
    },
    {
      "cell_type": "code",
      "metadata": {
        "colab": {
          "base_uri": "https://localhost:8080/",
          "height": 194
        },
        "id": "VZXAGFpDVOry",
        "outputId": "e83fa861-393f-473d-a44b-11a9cea9f499"
      },
      "source": [
        "acc_df_levels = pd.DataFrame.from_dict(acc_train_list_levels, orient='index', columns=['Accuracy'])\n",
        "f1_df_levels = pd.DataFrame.from_dict(f1_train_list_levels, orient='index', columns=['F1'])\n",
        "df_levels = pd.concat([acc_df_levels, f1_df_levels], axis=1)\n",
        "df_levels"
      ],
      "execution_count": 21,
      "outputs": [
        {
          "output_type": "execute_result",
          "data": {
            "text/html": [
              "<div>\n",
              "<style scoped>\n",
              "    .dataframe tbody tr th:only-of-type {\n",
              "        vertical-align: middle;\n",
              "    }\n",
              "\n",
              "    .dataframe tbody tr th {\n",
              "        vertical-align: top;\n",
              "    }\n",
              "\n",
              "    .dataframe thead th {\n",
              "        text-align: right;\n",
              "    }\n",
              "</style>\n",
              "<table border=\"1\" class=\"dataframe\">\n",
              "  <thead>\n",
              "    <tr style=\"text-align: right;\">\n",
              "      <th></th>\n",
              "      <th>Accuracy</th>\n",
              "      <th>F1</th>\n",
              "    </tr>\n",
              "  </thead>\n",
              "  <tbody>\n",
              "    <tr>\n",
              "      <th>svm_rbf</th>\n",
              "      <td>0.870875</td>\n",
              "      <td>0.859313</td>\n",
              "    </tr>\n",
              "    <tr>\n",
              "      <th>tree_clf</th>\n",
              "      <td>0.690594</td>\n",
              "      <td>0.598196</td>\n",
              "    </tr>\n",
              "    <tr>\n",
              "      <th>rf</th>\n",
              "      <td>0.960809</td>\n",
              "      <td>0.960120</td>\n",
              "    </tr>\n",
              "    <tr>\n",
              "      <th>mlp</th>\n",
              "      <td>0.774752</td>\n",
              "      <td>0.717789</td>\n",
              "    </tr>\n",
              "    <tr>\n",
              "      <th>stack_model</th>\n",
              "      <td>0.782178</td>\n",
              "      <td>0.742280</td>\n",
              "    </tr>\n",
              "  </tbody>\n",
              "</table>\n",
              "</div>"
            ],
            "text/plain": [
              "             Accuracy        F1\n",
              "svm_rbf      0.870875  0.859313\n",
              "tree_clf     0.690594  0.598196\n",
              "rf           0.960809  0.960120\n",
              "mlp          0.774752  0.717789\n",
              "stack_model  0.782178  0.742280"
            ]
          },
          "metadata": {
            "tags": []
          },
          "execution_count": 21
        }
      ]
    },
    {
      "cell_type": "markdown",
      "metadata": {
        "id": "4vdlk9bTXA6u"
      },
      "source": [
        "##### Test"
      ]
    },
    {
      "cell_type": "code",
      "metadata": {
        "colab": {
          "base_uri": "https://localhost:8080/",
          "height": 194
        },
        "id": "y9ZyZjBbVcHV",
        "outputId": "639a895d-aff1-47e4-fd3b-71c1864f0ff5"
      },
      "source": [
        "acc_df_test_levels = pd.DataFrame.from_dict(acc_test_list_levels, orient='index', columns=['Accuracy'])\n",
        "f1_df_test_levels = pd.DataFrame.from_dict(f1_test_list_levels, orient='index', columns=['F1'])\n",
        "df_test_levels = pd.concat([acc_df_test_levels, f1_df_test_levels], axis=1)\n",
        "df_test_levels"
      ],
      "execution_count": 22,
      "outputs": [
        {
          "output_type": "execute_result",
          "data": {
            "text/html": [
              "<div>\n",
              "<style scoped>\n",
              "    .dataframe tbody tr th:only-of-type {\n",
              "        vertical-align: middle;\n",
              "    }\n",
              "\n",
              "    .dataframe tbody tr th {\n",
              "        vertical-align: top;\n",
              "    }\n",
              "\n",
              "    .dataframe thead th {\n",
              "        text-align: right;\n",
              "    }\n",
              "</style>\n",
              "<table border=\"1\" class=\"dataframe\">\n",
              "  <thead>\n",
              "    <tr style=\"text-align: right;\">\n",
              "      <th></th>\n",
              "      <th>Accuracy</th>\n",
              "      <th>F1</th>\n",
              "    </tr>\n",
              "  </thead>\n",
              "  <tbody>\n",
              "    <tr>\n",
              "      <th>svm_rbf</th>\n",
              "      <td>0.714148</td>\n",
              "      <td>0.631083</td>\n",
              "    </tr>\n",
              "    <tr>\n",
              "      <th>tree_clf</th>\n",
              "      <td>0.697786</td>\n",
              "      <td>0.602826</td>\n",
              "    </tr>\n",
              "    <tr>\n",
              "      <th>rf</th>\n",
              "      <td>0.712223</td>\n",
              "      <td>0.639558</td>\n",
              "    </tr>\n",
              "    <tr>\n",
              "      <th>mlp</th>\n",
              "      <td>0.716073</td>\n",
              "      <td>0.630624</td>\n",
              "    </tr>\n",
              "    <tr>\n",
              "      <th>stack_model</th>\n",
              "      <td>0.721848</td>\n",
              "      <td>0.651231</td>\n",
              "    </tr>\n",
              "  </tbody>\n",
              "</table>\n",
              "</div>"
            ],
            "text/plain": [
              "             Accuracy        F1\n",
              "svm_rbf      0.714148  0.631083\n",
              "tree_clf     0.697786  0.602826\n",
              "rf           0.712223  0.639558\n",
              "mlp          0.716073  0.630624\n",
              "stack_model  0.721848  0.651231"
            ]
          },
          "metadata": {
            "tags": []
          },
          "execution_count": 22
        }
      ]
    }
  ]
}