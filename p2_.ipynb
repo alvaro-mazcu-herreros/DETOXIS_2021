{
 "metadata": {
  "language_info": {
   "codemirror_mode": {
    "name": "ipython",
    "version": 3
   },
   "file_extension": ".py",
   "mimetype": "text/x-python",
   "name": "python",
   "nbconvert_exporter": "python",
   "pygments_lexer": "ipython3",
   "version": "3.8.5"
  },
  "orig_nbformat": 2,
  "kernelspec": {
   "name": "python3",
   "display_name": "Python 3.8.5 64-bit",
   "metadata": {
    "interpreter": {
     "hash": "082e9a3bcad0a290d0001e938aa60b99250c6c2ef33a923c00b70f9826caf4b7"
    }
   }
  }
 },
 "nbformat": 4,
 "nbformat_minor": 2,
 "cells": [
  {
   "source": [
    "# Detection of TOXicity in comments in Spanish (DETOXIS 2021)\n",
    "\n",
    "## SESIÓN 2.2: Clasificación\n",
    "\n",
    "### Realizado por Álvaro Mazcuñán y Miquel Marín"
   ],
   "cell_type": "markdown",
   "metadata": {}
  },
  {
   "source": [
    "#### Librerías"
   ],
   "cell_type": "markdown",
   "metadata": {}
  },
  {
   "source": [
    "Se importan las mismas librerías que se utilizaron en la parte anterior"
   ],
   "cell_type": "markdown",
   "metadata": {}
  },
  {
   "cell_type": "code",
   "execution_count": 1,
   "metadata": {},
   "outputs": [
    {
     "output_type": "stream",
     "name": "stderr",
     "text": [
      "/Library/Frameworks/Python.framework/Versions/3.8/lib/python3.8/site-packages/gensim/similarities/__init__.py:15: UserWarning: The gensim.similarities.levenshtein submodule is disabled, because the optional Levenshtein package <https://pypi.org/project/python-Levenshtein/> is unavailable. Install Levenhstein (e.g. `pip install python-Levenshtein`) to suppress this warning.\n  warnings.warn(msg)\n"
     ]
    }
   ],
   "source": [
    "import pandas as pd\n",
    "import re\n",
    "import string\n",
    "import numpy as np\n",
    "\n",
    "from nltk.corpus import stopwords\n",
    "from nltk.tokenize import word_tokenize\n",
    "from nltk.stem import PorterStemmer\n",
    "from nltk.stem import WordNetLemmatizer\n",
    "\n",
    "from sklearn.feature_extraction.text import CountVectorizer\n",
    "from sklearn.feature_extraction.text import TfidfVectorizer\n",
    "\n",
    "from sklearn.naive_bayes import MultinomialNB\n",
    "from sklearn.tree import DecisionTreeClassifier\n",
    "from sklearn.linear_model import LogisticRegression\n",
    "from sklearn.svm import SVC\n",
    "from sklearn.neural_network import MLPClassifier\n",
    "\n",
    "from sklearn.model_selection import train_test_split\n",
    "from sklearn.metrics import f1_score\n",
    "from sklearn.metrics import accuracy_score\n",
    "\n",
    "from gensim.models import Word2Vec"
   ]
  },
  {
   "source": [
    "#### Datos de DETOXIS"
   ],
   "cell_type": "markdown",
   "metadata": {}
  },
  {
   "source": [
    "A continuación se cargan los datos tal y como se hizo en la anterior entrega"
   ],
   "cell_type": "markdown",
   "metadata": {}
  },
  {
   "cell_type": "code",
   "execution_count": 2,
   "metadata": {},
   "outputs": [
    {
     "output_type": "execute_result",
     "data": {
      "text/plain": [
       "     topic thread_id comment_id reply_to  comment_level  \\\n",
       "0       CR     0_000      0_002    0_002              1   \n",
       "1       CR     0_001      0_003    0_003              1   \n",
       "2       CR     0_002      0_004    0_004              1   \n",
       "3       CR     0_003      0_005    0_005              1   \n",
       "4       CR     0_004      0_006    0_006              1   \n",
       "...    ...       ...        ...      ...            ...   \n",
       "3458    MI    20_134     20_164   20_164              1   \n",
       "3459    MI    20_006     20_165   20_008              2   \n",
       "3460    MI    20_135     20_166   20_166              1   \n",
       "3461    MI    20_136     20_167   20_167              1   \n",
       "3462    MI    20_137     20_168   20_168              1   \n",
       "\n",
       "                                                comment  argumentation  \\\n",
       "0                              Pensó: Zumo para restar.              0   \n",
       "1      Como les gusta el afeitado en seco a esta gente.              0   \n",
       "2     asi me gusta, que se maten entre ellos y en al...              0   \n",
       "3     Loss mas valientes, los que mejor cortan nuest...              0   \n",
       "4                                         Costumbres...              0   \n",
       "...                                                 ...            ...   \n",
       "3458                   Ya decía yo que veía menos moros              0   \n",
       "3459                               +1. Como lo sabes...              0   \n",
       "3460  Seguirán cobrando paguitas en Marruecos,expoli...              0   \n",
       "3461  pobres, se arriesgan en pateras porque huyen d...              0   \n",
       "3462  Yo me quiero escapar también, dan paguita al l...              0   \n",
       "\n",
       "      constructiveness  positive_stance  negative_stance  ...  target_group  \\\n",
       "0                    0                0                0  ...             0   \n",
       "1                    0                0                0  ...             1   \n",
       "2                    0                0                0  ...             1   \n",
       "3                    0                0                0  ...             1   \n",
       "4                    0                0                0  ...             1   \n",
       "...                ...              ...              ...  ...           ...   \n",
       "3458                 0                0                0  ...             1   \n",
       "3459                 0                1                0  ...             0   \n",
       "3460                 0                0                0  ...             1   \n",
       "3461                 0                0                0  ...             1   \n",
       "3462                 0                0                0  ...             0   \n",
       "\n",
       "      stereotype  sarcasm  mockery  insult  improper_language  aggressiveness  \\\n",
       "0              0        0        1       0                  0               0   \n",
       "1              1        1        1       0                  0               0   \n",
       "2              0        0        0       0                  0               1   \n",
       "3              0        1        1       0                  0               0   \n",
       "4              1        0        0       0                  0               0   \n",
       "...          ...      ...      ...     ...                ...             ...   \n",
       "3458           0        0        1       1                  0               0   \n",
       "3459           0        0        0       0                  0               0   \n",
       "3460           1        0        0       0                  0               0   \n",
       "3461           0        0        1       0                  0               0   \n",
       "3462           0        0        1       0                  0               0   \n",
       "\n",
       "      intolerance  toxicity  toxicity_level  \n",
       "0               0         1               1  \n",
       "1               0         1               1  \n",
       "2               1         1               2  \n",
       "3               0         1               1  \n",
       "4               0         1               1  \n",
       "...           ...       ...             ...  \n",
       "3458            0         1               1  \n",
       "3459            0         0               0  \n",
       "3460            1         1               1  \n",
       "3461            0         1               1  \n",
       "3462            0         1               1  \n",
       "\n",
       "[3463 rows x 21 columns]"
      ],
      "text/html": "<div>\n<style scoped>\n    .dataframe tbody tr th:only-of-type {\n        vertical-align: middle;\n    }\n\n    .dataframe tbody tr th {\n        vertical-align: top;\n    }\n\n    .dataframe thead th {\n        text-align: right;\n    }\n</style>\n<table border=\"1\" class=\"dataframe\">\n  <thead>\n    <tr style=\"text-align: right;\">\n      <th></th>\n      <th>topic</th>\n      <th>thread_id</th>\n      <th>comment_id</th>\n      <th>reply_to</th>\n      <th>comment_level</th>\n      <th>comment</th>\n      <th>argumentation</th>\n      <th>constructiveness</th>\n      <th>positive_stance</th>\n      <th>negative_stance</th>\n      <th>...</th>\n      <th>target_group</th>\n      <th>stereotype</th>\n      <th>sarcasm</th>\n      <th>mockery</th>\n      <th>insult</th>\n      <th>improper_language</th>\n      <th>aggressiveness</th>\n      <th>intolerance</th>\n      <th>toxicity</th>\n      <th>toxicity_level</th>\n    </tr>\n  </thead>\n  <tbody>\n    <tr>\n      <th>0</th>\n      <td>CR</td>\n      <td>0_000</td>\n      <td>0_002</td>\n      <td>0_002</td>\n      <td>1</td>\n      <td>Pensó: Zumo para restar.</td>\n      <td>0</td>\n      <td>0</td>\n      <td>0</td>\n      <td>0</td>\n      <td>...</td>\n      <td>0</td>\n      <td>0</td>\n      <td>0</td>\n      <td>1</td>\n      <td>0</td>\n      <td>0</td>\n      <td>0</td>\n      <td>0</td>\n      <td>1</td>\n      <td>1</td>\n    </tr>\n    <tr>\n      <th>1</th>\n      <td>CR</td>\n      <td>0_001</td>\n      <td>0_003</td>\n      <td>0_003</td>\n      <td>1</td>\n      <td>Como les gusta el afeitado en seco a esta gente.</td>\n      <td>0</td>\n      <td>0</td>\n      <td>0</td>\n      <td>0</td>\n      <td>...</td>\n      <td>1</td>\n      <td>1</td>\n      <td>1</td>\n      <td>1</td>\n      <td>0</td>\n      <td>0</td>\n      <td>0</td>\n      <td>0</td>\n      <td>1</td>\n      <td>1</td>\n    </tr>\n    <tr>\n      <th>2</th>\n      <td>CR</td>\n      <td>0_002</td>\n      <td>0_004</td>\n      <td>0_004</td>\n      <td>1</td>\n      <td>asi me gusta, que se maten entre ellos y en al...</td>\n      <td>0</td>\n      <td>0</td>\n      <td>0</td>\n      <td>0</td>\n      <td>...</td>\n      <td>1</td>\n      <td>0</td>\n      <td>0</td>\n      <td>0</td>\n      <td>0</td>\n      <td>0</td>\n      <td>1</td>\n      <td>1</td>\n      <td>1</td>\n      <td>2</td>\n    </tr>\n    <tr>\n      <th>3</th>\n      <td>CR</td>\n      <td>0_003</td>\n      <td>0_005</td>\n      <td>0_005</td>\n      <td>1</td>\n      <td>Loss mas valientes, los que mejor cortan nuest...</td>\n      <td>0</td>\n      <td>0</td>\n      <td>0</td>\n      <td>0</td>\n      <td>...</td>\n      <td>1</td>\n      <td>0</td>\n      <td>1</td>\n      <td>1</td>\n      <td>0</td>\n      <td>0</td>\n      <td>0</td>\n      <td>0</td>\n      <td>1</td>\n      <td>1</td>\n    </tr>\n    <tr>\n      <th>4</th>\n      <td>CR</td>\n      <td>0_004</td>\n      <td>0_006</td>\n      <td>0_006</td>\n      <td>1</td>\n      <td>Costumbres...</td>\n      <td>0</td>\n      <td>0</td>\n      <td>0</td>\n      <td>0</td>\n      <td>...</td>\n      <td>1</td>\n      <td>1</td>\n      <td>0</td>\n      <td>0</td>\n      <td>0</td>\n      <td>0</td>\n      <td>0</td>\n      <td>0</td>\n      <td>1</td>\n      <td>1</td>\n    </tr>\n    <tr>\n      <th>...</th>\n      <td>...</td>\n      <td>...</td>\n      <td>...</td>\n      <td>...</td>\n      <td>...</td>\n      <td>...</td>\n      <td>...</td>\n      <td>...</td>\n      <td>...</td>\n      <td>...</td>\n      <td>...</td>\n      <td>...</td>\n      <td>...</td>\n      <td>...</td>\n      <td>...</td>\n      <td>...</td>\n      <td>...</td>\n      <td>...</td>\n      <td>...</td>\n      <td>...</td>\n      <td>...</td>\n    </tr>\n    <tr>\n      <th>3458</th>\n      <td>MI</td>\n      <td>20_134</td>\n      <td>20_164</td>\n      <td>20_164</td>\n      <td>1</td>\n      <td>Ya decía yo que veía menos moros</td>\n      <td>0</td>\n      <td>0</td>\n      <td>0</td>\n      <td>0</td>\n      <td>...</td>\n      <td>1</td>\n      <td>0</td>\n      <td>0</td>\n      <td>1</td>\n      <td>1</td>\n      <td>0</td>\n      <td>0</td>\n      <td>0</td>\n      <td>1</td>\n      <td>1</td>\n    </tr>\n    <tr>\n      <th>3459</th>\n      <td>MI</td>\n      <td>20_006</td>\n      <td>20_165</td>\n      <td>20_008</td>\n      <td>2</td>\n      <td>+1. Como lo sabes...</td>\n      <td>0</td>\n      <td>0</td>\n      <td>1</td>\n      <td>0</td>\n      <td>...</td>\n      <td>0</td>\n      <td>0</td>\n      <td>0</td>\n      <td>0</td>\n      <td>0</td>\n      <td>0</td>\n      <td>0</td>\n      <td>0</td>\n      <td>0</td>\n      <td>0</td>\n    </tr>\n    <tr>\n      <th>3460</th>\n      <td>MI</td>\n      <td>20_135</td>\n      <td>20_166</td>\n      <td>20_166</td>\n      <td>1</td>\n      <td>Seguirán cobrando paguitas en Marruecos,expoli...</td>\n      <td>0</td>\n      <td>0</td>\n      <td>0</td>\n      <td>0</td>\n      <td>...</td>\n      <td>1</td>\n      <td>1</td>\n      <td>0</td>\n      <td>0</td>\n      <td>0</td>\n      <td>0</td>\n      <td>0</td>\n      <td>1</td>\n      <td>1</td>\n      <td>1</td>\n    </tr>\n    <tr>\n      <th>3461</th>\n      <td>MI</td>\n      <td>20_136</td>\n      <td>20_167</td>\n      <td>20_167</td>\n      <td>1</td>\n      <td>pobres, se arriesgan en pateras porque huyen d...</td>\n      <td>0</td>\n      <td>0</td>\n      <td>0</td>\n      <td>0</td>\n      <td>...</td>\n      <td>1</td>\n      <td>0</td>\n      <td>0</td>\n      <td>1</td>\n      <td>0</td>\n      <td>0</td>\n      <td>0</td>\n      <td>0</td>\n      <td>1</td>\n      <td>1</td>\n    </tr>\n    <tr>\n      <th>3462</th>\n      <td>MI</td>\n      <td>20_137</td>\n      <td>20_168</td>\n      <td>20_168</td>\n      <td>1</td>\n      <td>Yo me quiero escapar también, dan paguita al l...</td>\n      <td>0</td>\n      <td>0</td>\n      <td>0</td>\n      <td>0</td>\n      <td>...</td>\n      <td>0</td>\n      <td>0</td>\n      <td>0</td>\n      <td>1</td>\n      <td>0</td>\n      <td>0</td>\n      <td>0</td>\n      <td>0</td>\n      <td>1</td>\n      <td>1</td>\n    </tr>\n  </tbody>\n</table>\n<p>3463 rows × 21 columns</p>\n</div>"
     },
     "metadata": {},
     "execution_count": 2
    }
   ],
   "source": [
    "data = pd.read_csv('data/DATASET_DETOXIS.csv')\n",
    "data"
   ]
  },
  {
   "source": [
    "#### Subset de variables para el análisis"
   ],
   "cell_type": "markdown",
   "metadata": {}
  },
  {
   "cell_type": "code",
   "execution_count": 3,
   "metadata": {},
   "outputs": [
    {
     "output_type": "execute_result",
     "data": {
      "text/plain": [
       "                                                comment  toxicity  \\\n",
       "0                              Pensó: Zumo para restar.         1   \n",
       "1      Como les gusta el afeitado en seco a esta gente.         1   \n",
       "2     asi me gusta, que se maten entre ellos y en al...         1   \n",
       "3     Loss mas valientes, los que mejor cortan nuest...         1   \n",
       "4                                         Costumbres...         1   \n",
       "...                                                 ...       ...   \n",
       "3458                   Ya decía yo que veía menos moros         1   \n",
       "3459                               +1. Como lo sabes...         0   \n",
       "3460  Seguirán cobrando paguitas en Marruecos,expoli...         1   \n",
       "3461  pobres, se arriesgan en pateras porque huyen d...         1   \n",
       "3462  Yo me quiero escapar también, dan paguita al l...         1   \n",
       "\n",
       "      toxicity_level  \n",
       "0                  1  \n",
       "1                  1  \n",
       "2                  2  \n",
       "3                  1  \n",
       "4                  1  \n",
       "...              ...  \n",
       "3458               1  \n",
       "3459               0  \n",
       "3460               1  \n",
       "3461               1  \n",
       "3462               1  \n",
       "\n",
       "[3463 rows x 3 columns]"
      ],
      "text/html": "<div>\n<style scoped>\n    .dataframe tbody tr th:only-of-type {\n        vertical-align: middle;\n    }\n\n    .dataframe tbody tr th {\n        vertical-align: top;\n    }\n\n    .dataframe thead th {\n        text-align: right;\n    }\n</style>\n<table border=\"1\" class=\"dataframe\">\n  <thead>\n    <tr style=\"text-align: right;\">\n      <th></th>\n      <th>comment</th>\n      <th>toxicity</th>\n      <th>toxicity_level</th>\n    </tr>\n  </thead>\n  <tbody>\n    <tr>\n      <th>0</th>\n      <td>Pensó: Zumo para restar.</td>\n      <td>1</td>\n      <td>1</td>\n    </tr>\n    <tr>\n      <th>1</th>\n      <td>Como les gusta el afeitado en seco a esta gente.</td>\n      <td>1</td>\n      <td>1</td>\n    </tr>\n    <tr>\n      <th>2</th>\n      <td>asi me gusta, que se maten entre ellos y en al...</td>\n      <td>1</td>\n      <td>2</td>\n    </tr>\n    <tr>\n      <th>3</th>\n      <td>Loss mas valientes, los que mejor cortan nuest...</td>\n      <td>1</td>\n      <td>1</td>\n    </tr>\n    <tr>\n      <th>4</th>\n      <td>Costumbres...</td>\n      <td>1</td>\n      <td>1</td>\n    </tr>\n    <tr>\n      <th>...</th>\n      <td>...</td>\n      <td>...</td>\n      <td>...</td>\n    </tr>\n    <tr>\n      <th>3458</th>\n      <td>Ya decía yo que veía menos moros</td>\n      <td>1</td>\n      <td>1</td>\n    </tr>\n    <tr>\n      <th>3459</th>\n      <td>+1. Como lo sabes...</td>\n      <td>0</td>\n      <td>0</td>\n    </tr>\n    <tr>\n      <th>3460</th>\n      <td>Seguirán cobrando paguitas en Marruecos,expoli...</td>\n      <td>1</td>\n      <td>1</td>\n    </tr>\n    <tr>\n      <th>3461</th>\n      <td>pobres, se arriesgan en pateras porque huyen d...</td>\n      <td>1</td>\n      <td>1</td>\n    </tr>\n    <tr>\n      <th>3462</th>\n      <td>Yo me quiero escapar también, dan paguita al l...</td>\n      <td>1</td>\n      <td>1</td>\n    </tr>\n  </tbody>\n</table>\n<p>3463 rows × 3 columns</p>\n</div>"
     },
     "metadata": {},
     "execution_count": 3
    }
   ],
   "source": [
    "sample_data = data[[\"comment\", \"toxicity\",\"toxicity_level\"]]\n",
    "sample_data"
   ]
  },
  {
   "source": [
    "#### Leer tweets y preprocesado "
   ],
   "cell_type": "markdown",
   "metadata": {}
  },
  {
   "cell_type": "code",
   "execution_count": 4,
   "metadata": {},
   "outputs": [],
   "source": [
    "def tweet_preprocessing_not_tokenized(tweet):\n",
    "    tweet = tweet.lower() # Se empieza pasando todos los mensajes a minúsculas\n",
    "    tweet = re.sub(r\"http\\S+|www\\S+|https\\S+\", \"\" ,tweet , flags=re.MULTILINE) # Quitar URLs\n",
    "    tweet = re.sub(r\"\\@\\w+|\\#\", \"\", tweet) # Quitar @ y #\n",
    "    tweet = re.sub(r\"[\\U00010000-\\U0010ffff]|:\\)|:\\(|XD|xD|;\\)|:,\\(|:D|D:\", \"\", tweet) # Quitar emojis y emoticones\n",
    "    tweet = tweet.translate(str.maketrans('', '', string.punctuation)) # Quitar signos de puntuación\n",
    "    tokenized_tweets = word_tokenize(tweet)\n",
    "    filtered_tweets = [word for word in tokenized_tweets if not word in set(stopwords.words('spanish'))] # Quitar stopwords y filtrar\n",
    "    \n",
    "    stemming = PorterStemmer() # Inicializamos PorterStemmer para obtener la raíz de cada una de las palabras\n",
    "    stemmed_tweets = [stemming.stem(word) for word in filtered_tweets]\n",
    "    lemmatization = WordNetLemmatizer() # Inicializamos el Lemmatizer para obtener los lemas de las palabras\n",
    "    lemma_tweets = [lemmatization.lemmatize(word, pos='a') for word in stemmed_tweets] \n",
    "    return \" \".join(lemma_tweets) # NO TOKENIZADO\n",
    "\n",
    "preprocessing = lambda x: tweet_preprocessing_not_tokenized(x)"
   ]
  },
  {
   "cell_type": "code",
   "execution_count": 5,
   "metadata": {
    "tags": []
   },
   "outputs": [
    {
     "output_type": "stream",
     "name": "stderr",
     "text": [
      "<ipython-input-5-3c4e5d0f187f>:1: SettingWithCopyWarning: \nA value is trying to be set on a copy of a slice from a DataFrame.\nTry using .loc[row_indexer,col_indexer] = value instead\n\nSee the caveats in the documentation: https://pandas.pydata.org/pandas-docs/stable/user_guide/indexing.html#returning-a-view-versus-a-copy\n  sample_data['comment'] = pd.DataFrame(sample_data[\"comment\"].apply(preprocessing))\n"
     ]
    }
   ],
   "source": [
    "sample_data['comment'] = pd.DataFrame(sample_data[\"comment\"].apply(preprocessing))"
   ]
  },
  {
   "cell_type": "code",
   "execution_count": 6,
   "metadata": {},
   "outputs": [
    {
     "output_type": "execute_result",
     "data": {
      "text/plain": [
       "'pensó zumo restar'"
      ]
     },
     "metadata": {},
     "execution_count": 6
    }
   ],
   "source": [
    "sample_data[\"comment\"][0]"
   ]
  },
  {
   "source": [
    "#### Problema del desbalance de clases"
   ],
   "cell_type": "markdown",
   "metadata": {}
  },
  {
   "source": [
    "Debido a que se van a usar algoritmos de clasificación se tendría que estudiar, para los dos variables de `toxicity` y `toxicity_level`, si dichas clases están balanceadas o no debido a que en problemas de clasificación se suelen encontrar que en el conjunto de datos de entrenamiento una de las clases es minoritaria, es decir, en ella hay muy pocas muestras. Esto puede llegar a afectar a los algoritmos en su proceso de generalización y, en consecuencia, no poder diferenciar una clase de la otra."
   ],
   "cell_type": "markdown",
   "metadata": {}
  },
  {
   "cell_type": "code",
   "execution_count": 7,
   "metadata": {},
   "outputs": [
    {
     "output_type": "execute_result",
     "data": {
      "text/plain": [
       "0    2316\n",
       "1    1147\n",
       "Name: toxicity, dtype: int64"
      ]
     },
     "metadata": {},
     "execution_count": 7
    }
   ],
   "source": [
    "sample_data[\"toxicity\"].value_counts()"
   ]
  },
  {
   "cell_type": "code",
   "execution_count": 8,
   "metadata": {},
   "outputs": [
    {
     "output_type": "execute_result",
     "data": {
      "text/plain": [
       "0    2317\n",
       "1     808\n",
       "2     269\n",
       "3      69\n",
       "Name: toxicity_level, dtype: int64"
      ]
     },
     "metadata": {},
     "execution_count": 8
    }
   ],
   "source": [
    "sample_data[\"toxicity_level\"].value_counts()"
   ]
  },
  {
   "source": [
    "Tal y como se puede observar, en la variable `toxicity`, existen 2316 instancias de la clase 0. Por otra parte, la clase 1 contiene 1147. En este caso, aunque la clase 0 tenga el doble de observaciones, consideramos que no existe un problema de desbalanceo de clases ya que existen varias instancias de cada una de las dos clases. Sin embargo, en la variable `toxicity_level` sí que existe un desbalanceo de clases debido a que en las clases 2 y 3 existen pocas observaciones respecto a las otras dos. \n",
    "Por lo tanto, se ha decidido, una vez se evaluen los modelos correspondientes, balancear dicha variable."
   ],
   "cell_type": "markdown",
   "metadata": {}
  },
  {
   "source": [
    "#### Dividir el corpus en conjunto de entrenamiento y test"
   ],
   "cell_type": "markdown",
   "metadata": {}
  },
  {
   "source": [
    "Hay que tener claro que, en primer lugar, se van a realizar los modelos de extracción de características y de Machine Learning para la variable `toxicity`."
   ],
   "cell_type": "markdown",
   "metadata": {}
  },
  {
   "cell_type": "code",
   "execution_count": 9,
   "metadata": {},
   "outputs": [],
   "source": [
    "train_X, test_X, train_Y, test_Y = train_test_split(sample_data['comment'], sample_data['toxicity'], test_size=0.3)"
   ]
  },
  {
   "source": [
    "### Extracción de características"
   ],
   "cell_type": "markdown",
   "metadata": {}
  },
  {
   "source": [
    "#### Term Frequency - Inverse Document Frequency (TF-IDF)"
   ],
   "cell_type": "markdown",
   "metadata": {}
  },
  {
   "source": [
    "Una vez se ha dividido el corpus en train y test, se pasa a realizar un TF-IDF para luego entrenar los datos con una serie de modelos que se comentarán posteriormente."
   ],
   "cell_type": "markdown",
   "metadata": {}
  },
  {
   "cell_type": "code",
   "execution_count": 10,
   "metadata": {},
   "outputs": [],
   "source": [
    "tfidf_vect = TfidfVectorizer()\n",
    "tfidf_vect.fit(sample_data['comment'])\n",
    "train_X_Tfidf = tfidf_vect.transform(train_X)\n",
    "test_X_Tfidf = tfidf_vect.transform(test_X)"
   ]
  },
  {
   "source": [
    "Se muestra un ejemplo de cómo queda el diccionario. Únicamente se mostrarán 30 de las palabras que lo forman."
   ],
   "cell_type": "markdown",
   "metadata": {}
  },
  {
   "cell_type": "code",
   "execution_count": 33,
   "metadata": {
    "tags": []
   },
   "outputs": [
    {
     "output_type": "stream",
     "name": "stdout",
     "text": [
      "{'pensó': 9003, 'zumo': 12654, 'restar': 10533, 'gusta': 5821, 'afeitado': 489, 'seco': 10902, 'gent': 5666, 'asi': 1169, 'maten': 7609, 'alta': 714, 'mar': 7506, 'ma': 7330, 'inmigrant': 6520, 'porfavor': 9398, 'loss': 7284, 'valient': 12180, 'mejor': 7677, 'cortan': 2986, 'cabeza': 1758, 'socialista': 11201, 'izquierdista': 6781, 'racista': 10066, 'costumbr': 3013, 'lastima': 7000, 'volvio': 12504, 'loco': 7264, 'suicido': 11422, 'paso': 8862, 'preparado': 9538, 'cortar': 2988}\n"
     ]
    }
   ],
   "source": [
    "first15pairs = {k: tfidf_vect.vocabulary_[k] for k in list(tfidf_vect.vocabulary_)[:30]}\n",
    "print(first15pairs)"
   ]
  },
  {
   "source": [
    "### Evaluación de modelos - Variable `toxicity`"
   ],
   "cell_type": "markdown",
   "metadata": {}
  },
  {
   "source": [
    "#### Support Vector Machines (SVM)"
   ],
   "cell_type": "markdown",
   "metadata": {}
  },
  {
   "source": [
    "Una vez obtenidos los coeficientes de importancia de cada uno de los términos, se pasa a realizar el entrenamiento de un modelo, en este caso se va a empezar por el modelo de Máquinas de Soporte Vectorial"
   ],
   "cell_type": "markdown",
   "metadata": {}
  },
  {
   "cell_type": "code",
   "execution_count": 11,
   "metadata": {},
   "outputs": [],
   "source": [
    "svm_clf = SVC(C=1.0, kernel='linear', degree=3, gamma='auto')\n",
    "svm_clf.fit(train_X_Tfidf,train_Y)\n",
    "predictions_SVM = svm_clf.predict(test_X_Tfidf)"
   ]
  },
  {
   "cell_type": "code",
   "execution_count": 12,
   "metadata": {},
   "outputs": [
    {
     "output_type": "execute_result",
     "data": {
      "text/plain": [
       "0.651853747599046"
      ]
     },
     "metadata": {},
     "execution_count": 12
    }
   ],
   "source": [
    "score_svm = f1_score(test_Y, predictions_SVM, average='macro')\n",
    "score_svm"
   ]
  },
  {
   "source": [
    "Una vez entrenado el corpus con TF-IDF junto con el algoritmo de SVM, se puede observar que su F1-Score es de 0.68. Para una primera evaluación de dicho modelo, se puede decir que su resultado es mejorable pero no es un valor del todo malo ya que el valor óptimo de dicha métrica sería de 1."
   ],
   "cell_type": "markdown",
   "metadata": {}
  },
  {
   "source": [
    "#### Decision Tree"
   ],
   "cell_type": "markdown",
   "metadata": {}
  },
  {
   "cell_type": "code",
   "execution_count": 13,
   "metadata": {},
   "outputs": [],
   "source": [
    "tree_clf = DecisionTreeClassifier()\n",
    "tree_clf.fit(train_X_Tfidf,train_Y)\n",
    "predictions_tree = tree_clf.predict(test_X_Tfidf)"
   ]
  },
  {
   "cell_type": "code",
   "execution_count": 14,
   "metadata": {},
   "outputs": [
    {
     "output_type": "execute_result",
     "data": {
      "text/plain": [
       "0.662873702112424"
      ]
     },
     "metadata": {},
     "execution_count": 14
    }
   ],
   "source": [
    "score_tree = f1_score(test_Y, predictions_tree, average='macro')\n",
    "score_tree"
   ]
  },
  {
   "source": [
    "En este caso se ha entrenado un árbol de decisión (también con la previa extracción de características de TF-IDF) y se puede observar como su F1-Score es muy similar al del modelo de Máquinas de Soporte Vectorial."
   ],
   "cell_type": "markdown",
   "metadata": {}
  },
  {
   "source": [
    "#### Logistic Regression"
   ],
   "cell_type": "markdown",
   "metadata": {}
  },
  {
   "cell_type": "code",
   "execution_count": 15,
   "metadata": {},
   "outputs": [],
   "source": [
    "logreg_clf = LogisticRegression()\n",
    "logreg_clf.fit(train_X_Tfidf,train_Y)\n",
    "predictions_logreg = logreg_clf.predict(test_X_Tfidf)"
   ]
  },
  {
   "cell_type": "code",
   "execution_count": 16,
   "metadata": {},
   "outputs": [
    {
     "output_type": "execute_result",
     "data": {
      "text/plain": [
       "0.5644002916514764"
      ]
     },
     "metadata": {},
     "execution_count": 16
    }
   ],
   "source": [
    "score_logreg = f1_score(test_Y, predictions_logreg, average='macro')\n",
    "score_logreg"
   ]
  },
  {
   "source": [
    "En tercer caso, se ha evaluado un modelo de regresión logística y su valor de F1-Score es muy inferior al de los anteriores modelos realizados (0.57 aproximadamente)"
   ],
   "cell_type": "markdown",
   "metadata": {}
  },
  {
   "source": [
    "#### Perceptrón multicapa"
   ],
   "cell_type": "markdown",
   "metadata": {}
  },
  {
   "cell_type": "code",
   "execution_count": 17,
   "metadata": {},
   "outputs": [],
   "source": [
    "mlp_clf = MLPClassifier(random_state=1, max_iter=300)\n",
    "mlp_clf.fit(train_X_Tfidf,train_Y)\n",
    "predictions_mlp = mlp_clf.predict(test_X_Tfidf)"
   ]
  },
  {
   "source": [
    "No hace falta ejecutarlo"
   ],
   "cell_type": "markdown",
   "metadata": {}
  },
  {
   "cell_type": "code",
   "execution_count": 18,
   "metadata": {},
   "outputs": [
    {
     "output_type": "execute_result",
     "data": {
      "text/plain": [
       "0.6292057024551188"
      ]
     },
     "metadata": {},
     "execution_count": 18
    }
   ],
   "source": [
    "score_mlp = f1_score(test_Y, predictions_mlp, average='macro')\n",
    "score_mlp"
   ]
  },
  {
   "source": [
    "Finalmente, se ha evaluado un perceptrón multicapa y se ha obtenido un F1-Score muy similar a los modelos de Regresión Logística y Máquinas de Soporte Vectorial"
   ],
   "cell_type": "markdown",
   "metadata": {}
  },
  {
   "source": [
    "Todo lo que se ha realizado anteriormente ha sido mediante la variable `toxicity`. Debido a que hay dos tareas, a continuación, se pasa a realizar el mismo proceso para la variable desglosada de `toxicity_level`."
   ],
   "cell_type": "markdown",
   "metadata": {}
  },
  {
   "cell_type": "code",
   "execution_count": 19,
   "metadata": {},
   "outputs": [],
   "source": [
    "train_X_, test_X_, train_Y_, test_Y_ = train_test_split(sample_data['comment'], sample_data['toxicity_level'], test_size=0.3)"
   ]
  },
  {
   "cell_type": "code",
   "execution_count": 20,
   "metadata": {},
   "outputs": [],
   "source": [
    "tfidf_vect_ = TfidfVectorizer()\n",
    "tfidf_vect_.fit(sample_data['comment'])\n",
    "train_X_Tfidf_ = tfidf_vect_.transform(train_X_)\n",
    "test_X_Tfidf_ = tfidf_vect_.transform(test_X_)"
   ]
  },
  {
   "source": [
    "### Evaluación de modelos - Variable `toxicity_level`"
   ],
   "cell_type": "markdown",
   "metadata": {}
  },
  {
   "source": [
    "#### Support Vector Machines (SVM)"
   ],
   "cell_type": "markdown",
   "metadata": {}
  },
  {
   "cell_type": "code",
   "execution_count": 21,
   "metadata": {},
   "outputs": [],
   "source": [
    "svm_clf_ = SVC(C=1.0, kernel='linear', degree=3, gamma='auto', class_weight=\"balanced\")\n",
    "svm_clf_.fit(train_X_Tfidf_,train_Y_)\n",
    "predictions_SVM_ = svm_clf.predict(test_X_Tfidf_)"
   ]
  },
  {
   "cell_type": "code",
   "execution_count": 22,
   "metadata": {},
   "outputs": [
    {
     "output_type": "execute_result",
     "data": {
      "text/plain": [
       "0.4007721111143363"
      ]
     },
     "metadata": {},
     "execution_count": 22
    }
   ],
   "source": [
    "score_svm_ = f1_score(test_Y_, predictions_SVM_, average='macro')\n",
    "score_svm_"
   ]
  },
  {
   "source": [
    "En este caso, utilizando la variable `toxicity_level`, se puede observar como el F1-Score ha disminuido radicalmente respecto a la anterior variable (0.40 aproximadamente)"
   ],
   "cell_type": "markdown",
   "metadata": {}
  },
  {
   "source": [
    "#### Decision Tree"
   ],
   "cell_type": "markdown",
   "metadata": {}
  },
  {
   "cell_type": "code",
   "execution_count": 23,
   "metadata": {},
   "outputs": [],
   "source": [
    "tree_clf_ = DecisionTreeClassifier(class_weight=\"balanced\")\n",
    "tree_clf_.fit(train_X_Tfidf_,train_Y_)\n",
    "predictions_tree_ = tree_clf_.predict(test_X_Tfidf_)"
   ]
  },
  {
   "cell_type": "code",
   "execution_count": 24,
   "metadata": {},
   "outputs": [
    {
     "output_type": "execute_result",
     "data": {
      "text/plain": [
       "0.3664720642234966"
      ]
     },
     "metadata": {},
     "execution_count": 24
    }
   ],
   "source": [
    "score_tree_ = f1_score(test_Y_, predictions_tree_, average='macro')\n",
    "score_tree_"
   ]
  },
  {
   "source": [
    "El F1-Score utilizando un árbol de decisión es de 0.31, un resultado bastante pobre."
   ],
   "cell_type": "markdown",
   "metadata": {}
  },
  {
   "source": [
    "#### Logistic Regression"
   ],
   "cell_type": "markdown",
   "metadata": {}
  },
  {
   "cell_type": "code",
   "execution_count": 25,
   "metadata": {},
   "outputs": [],
   "source": [
    "logreg_clf_ = LogisticRegression(class_weight=\"balanced\")\n",
    "logreg_clf_.fit(train_X_Tfidf_,train_Y_)\n",
    "predictions_logreg_ = logreg_clf_.predict(test_X_Tfidf_)"
   ]
  },
  {
   "cell_type": "code",
   "execution_count": 26,
   "metadata": {},
   "outputs": [
    {
     "output_type": "execute_result",
     "data": {
      "text/plain": [
       "0.38842280426853565"
      ]
     },
     "metadata": {},
     "execution_count": 26
    }
   ],
   "source": [
    "score_logreg_ = f1_score(test_Y_, predictions_logreg_, average='macro')\n",
    "score_logreg_"
   ]
  },
  {
   "source": [
    "La regresión logística mejora un poco respecto del árbol de decisión, pero aún así el score sigue siendo bastante bajo."
   ],
   "cell_type": "markdown",
   "metadata": {}
  },
  {
   "source": [
    "#### Perceptrón multicapa"
   ],
   "cell_type": "markdown",
   "metadata": {}
  },
  {
   "cell_type": "code",
   "execution_count": 27,
   "metadata": {},
   "outputs": [],
   "source": [
    "mlp_clf_ = MLPClassifier(random_state=1, max_iter=300)\n",
    "mlp_clf_.fit(train_X_Tfidf_,train_Y_)\n",
    "predictions_mlp_ = mlp_clf_.predict(test_X_Tfidf_)"
   ]
  },
  {
   "cell_type": "code",
   "execution_count": 28,
   "metadata": {},
   "outputs": [
    {
     "output_type": "execute_result",
     "data": {
      "text/plain": [
       "0.3027844916884526"
      ]
     },
     "metadata": {},
     "execution_count": 28
    }
   ],
   "source": [
    "score_mlp_ = f1_score(test_Y_, predictions_mlp_, average='macro')\n",
    "score_mlp_"
   ]
  },
  {
   "source": [
    "A pesar de que el perceptrón multicapa no recibe como parámetro `class_weight=\"balanced\"`, se decidió entrenar dicho modelo porque se pensó que podría mejorar los modelos anteriores. Resulta que su score da incluso peor que el resto."
   ],
   "cell_type": "markdown",
   "metadata": {}
  }
 ]
}